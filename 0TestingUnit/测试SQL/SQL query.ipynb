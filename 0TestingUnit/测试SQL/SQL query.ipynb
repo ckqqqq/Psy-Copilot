{
 "cells": [
  {
   "cell_type": "code",
   "execution_count": 2,
   "metadata": {},
   "outputs": [],
   "source": [
    "\n",
    "import psycopg2\n",
    "from psycopg2 import sql\n",
    "import json\n",
    "\n",
    "import psycopg2\n",
    "from psycopg2 import sql\n",
    "import json\n",
    "# 全局数据库连接参数\n",
    "DB_CONFIG = {\n",
    "    'host': 'bingviz-metrics-storage-dup.postgres.database.azure.com',\n",
    "    'port': '5432',\n",
    "    'dbname': 'metrics',\n",
    "    'user': 'bingviz_metrics',\n",
    "    'password': \"xb;Rt&F4~]XWj:@r-7.df'QD\"\n",
    "}\n",
    "class AgentPGSQL():\n",
    "    def __init__(self):\n",
    "        print('init_agentSQL')\n",
    "        self.schema_name = 'sapphire'\n",
    "        self.table_name = 'sapphire_engagement_metrics_master'\n",
    "        # 关闭游标和连接\n",
    "    def __del__(self) -> None:\n",
    "        print('del')\n",
    "        self.cursor.close()\n",
    "        self.conn.close()\n",
    "    def test(self,query:str)-> str:\n",
    "        \"\"\"\n",
    "        Decode the output of GPT\n",
    "        \"\"\"\n",
    "        self.conn = self.connect_to_postgres()\n",
    "        self.cursor = self.conn.cursor()\n",
    "        sql_query=query\n",
    "        if sql_query is None:\n",
    "            return \"GPT 生成结果JSON 解码错误\"\n",
    "        else:\n",
    "            print(sql_query)\n",
    "        \n",
    "        # 执行 SQL 查询\n",
    "        ana_res=self.fetch_complex_data(self.cursor, self.schema_name, self.table_name, sql_query=sql_query)\n",
    "        # 提交事务\n",
    "        if ana_res is None:\n",
    "            return \"GPT 生成的代码无法运行，哈哈哈。\"\n",
    "        return ana_res\n",
    "\n",
    "        \n",
    "\n",
    "    def connect_to_postgres(self):\n",
    "        \"\"\"\n",
    "        Connects to the PostgreSQL database using global DB_CONFIG and returns the connection and cursor.\n",
    "        \"\"\"\n",
    "        try:\n",
    "            # 连接到 PostgreSQL 数据库\n",
    "            conn = psycopg2.connect(**DB_CONFIG)\n",
    "            print(\"PGSQL Connection successful\")\n",
    "            return conn\n",
    "        except Exception as e:\n",
    "            print(f\"Error: {e}\")\n",
    "            return None\n",
    "    def str2json(self,input_str:str,target='DAU_Analysis'):\n",
    "        # exa_j['DAU_Analysis'][0]['SQL']['query']\n",
    "        value_dict={}\n",
    "        try:\n",
    "            tb_names=['your_table_name',r\"{}.{}\"]\n",
    "            for i  in tb_names:\n",
    "                if i in input_str:\n",
    "                    input_str=input_str.replace(i,\"tablename\")\n",
    "            print(type(input_str))\n",
    "            ana_res=json.loads(input_str)\n",
    "            sql_query=ana_res[target][0][\"SQL\"]['query']\n",
    "            # exa_j['DAU_Analysis'][0]['SQL']['query']\n",
    "            if \"date\" in ana_res:\n",
    "                value_dict[\"date\"]=ana_res[\"date\"]\n",
    "            return sql_query,value_dict\n",
    "        except Exception as e:\n",
    "            print(f\"Error: {e}\")\n",
    "            print(\"解码错误有问题！\")\n",
    "            return None,None\n",
    "        \n",
    "    \n",
    "    def execute_query(self,cursor, query):\n",
    "        \"\"\"\n",
    "        Executes a given SQL query using the provided cursor and returns the results.\n",
    "        \"\"\"\n",
    "        try:\n",
    "            cursor.execute(query)\n",
    "            return cursor.fetchall()\n",
    "        except Exception as e:\n",
    "            print(f\"Error: {e}\")\n",
    "            return None\n",
    "    def text_fetch_data(self):\n",
    "        pass\n",
    "    def fetch_complex_data(self, cursor, schema_name, table_name, sql_query):\n",
    "        \"\"\"\n",
    "        Fetches complex data based on the provided criteria.\n",
    "        \"\"\"\n",
    "        sql_query=sql_query.replace(\"tablename\", f\"{schema_name}.{table_name}\")\n",
    "        # query = sql.SQL(sql_query).format(\n",
    "        #     sql.Identifier(schema_name),\n",
    "        #     sql.Identifier(table_name)\n",
    "        # )\n",
    "        query = sql.SQL(sql_query)\n",
    "        print(sql_query)\n",
    "\n",
    "        results = self.execute_query(cursor, query)\n",
    "        if results:\n",
    "            for row in results:\n",
    "                print(row)\n",
    "            return results\n",
    "        else:\n",
    "            print(f\"No results found for the query.\")\n",
    "            return None"
   ]
  },
  {
   "cell_type": "code",
   "execution_count": 3,
   "metadata": {},
   "outputs": [
    {
     "name": "stdout",
     "output_type": "stream",
     "text": [
      "init_agentSQL\n"
     ]
    }
   ],
   "source": [
    "agentPGSQL=AgentPGSQL()"
   ]
  },
  {
   "cell_type": "code",
   "execution_count": 4,
   "metadata": {},
   "outputs": [
    {
     "name": "stdout",
     "output_type": "stream",
     "text": [
      "PGSQL Connection successful\n",
      "SELECT * FROM sapphire.sapphire_engagement_metrics_master LIMIT 10;\n",
      "SELECT * FROM sapphire.sapphire_engagement_metrics_master LIMIT 10;\n",
      "(1736681, '2022-09-23', 1, '4DC5714ABCAD449BA13A9B701A3CF296', 'en-in', '#Overall#', '#Overall#', '23.3.400914606', '#Overall#', '#Overall#', '#Overall#', '#Overall#', '#Overall#', '', '#Overall#', '#Overall#', {'ActiveUser': {'uu': {'uu': 467.0}, 'msa': {'msa_uu': 0.0}, 'msb': {'msb_uu': 0.0}, 'session': {'session_cnt': 894.0}, 'dwelltime': {'dwelltime': 107686.0, 'dwelltime_uu': 382.0}}})\n",
      "(1736686, '2022-09-23', 1, '4DC5714ABCAD449BA13A9B701A3CF296', 'en-xl', '#Overall#', '#Overall#', '#Overall#', '#Overall#', '#Overall#', '#Overall#', '#Overall#', '#Overall#', '', 'AppIcon', '#Overall#', {'NewUser': {'uu': {'uu': 2492.0}, 'msa': {'msa_uu': 0.0}, 'msb': {'msb_uu': 0.0}, 'session': {'session_cnt': 2944.0}, 'dwelltime': {'dwelltime': 154121.0, 'dwelltime_uu': 1570.0}}, 'ActiveUser': {'uu': {'uu': 12595.0}, 'msa': {'msa_uu': 0.0}, 'msb': {'msb_uu': 0.0}, 'session': {'session_cnt': 16372.0}, 'dwelltime': {'dwelltime': 1434959.0, 'dwelltime_uu': 9262.0}}})\n",
      "(1736689, '2022-09-23', 1, '2130688B018F4B44BBED68E7A42BBA1E', 'pt-br', '#Overall#', '#Overall#', '23.3.400914305', '#Overall#', '#Overall#', '#Overall#', '#Overall#', '#Overall#', '', '#Overall#', '#Overall#', {'ActiveUser': {'uu': {'uu': 351.0}, 'msa': {'msa_uu': 0.0}, 'msb': {'msb_uu': 0.0}, 'session': {'session_cnt': 757.0}, 'dwelltime': {'dwelltime': 160134.0, 'dwelltime_uu': 342.0}}})\n",
      "(1736693, '2022-09-23', 1, '2130688B018F4B44BBED68E7A42BBA1E', 'es-xl', '#Overall#', '#Overall#', '#Overall#', '#Overall#', 'Migrated', '#Overall#', '#Overall#', '#Overall#', '', '#Overall#', '#Overall#', {'ActiveUser': {'uu': {'uu': 5773.0}, 'msa': {'msa_uu': 0.0}, 'msb': {'msb_uu': 0.0}, 'session': {'session_cnt': 10194.0}, 'dwelltime': {'dwelltime': 2052632.0, 'dwelltime_uu': 5102.0}}})\n",
      "(1736697, '2022-09-23', 1, '4DC5714ABCAD449BA13A9B701A3CF296', 'fr-fr', '#Overall#', '#Overall#', '22.9.400720606', '#Overall#', '#Overall#', '#Overall#', '#Overall#', '#Overall#', '', '#Overall#', '#Overall#', {'ActiveUser': {'uu': {'uu': 1359.0}, 'msa': {'msa_uu': 0.0}, 'msb': {'msb_uu': 0.0}, 'session': {'session_cnt': 2587.0}, 'dwelltime': {'dwelltime': 166152.0, 'dwelltime_uu': 1203.0}}})\n",
      "(1736701, '2022-09-23', 1, '4DC5714ABCAD449BA13A9B701A3CF296', 'hu-hu', '#Overall#', '#Overall#', '#Overall#', '#Overall#', '#Overall#', '#Overall#', '#Overall#', '#Overall#', '', '#Overall#', '#Overall#', {'ActiveUser': {'uu': {'uu': 393.0}, 'msa': {'msa_uu': 0.0}, 'msb': {'msb_uu': 0.0}, 'session': {'session_cnt': 680.0}, 'dwelltime': {'dwelltime': 188053.0, 'dwelltime_uu': 366.0}}})\n",
      "(1736703, '2022-09-23', 1, '2130688B018F4B44BBED68E7A42BBA1E', 'es-xl', '#Overall#', '#Overall#', '#Overall#', '#Overall#', '#Overall#', '#Overall#', '#Overall#', '#Overall#', '', '#Overall#', '#Overall#', {'NewUser': {'uu': {'uu': 499.0}, 'msa': {'msa_uu': 0.0}, 'msb': {'msb_uu': 0.0}, 'session': {'session_cnt': 680.0}, 'dwelltime': {'dwelltime': 76187.0, 'dwelltime_uu': 330.0}}, 'ActiveUser': {'uu': {'uu': 10241.0}, 'msa': {'msa_uu': 0.0}, 'msb': {'msb_uu': 0.0}, 'session': {'session_cnt': 17627.0}, 'dwelltime': {'dwelltime': 3441553.0, 'dwelltime_uu': 8783.0}}})\n",
      "(1736706, '2022-09-23', 1, '4DC5714ABCAD449BA13A9B701A3CF296', 'fr-fr', '#Overall#', '#Overall#', '#Overall#', '#Overall#', 'Upsell', '#Overall#', '#Overall#', '#Overall#', '', '#Overall#', '#Overall#', {'NewUser': {'uu': {'uu': 64.0}, 'msa': {'msa_uu': 0.0}, 'msb': {'msb_uu': 0.0}, 'session': {'session_cnt': 119.0}, 'dwelltime': {'dwelltime': 20684.0, 'dwelltime_uu': 63.0}}, 'ActiveUser': {'uu': {'uu': 1016.0}, 'msa': {'msa_uu': 0.0}, 'msb': {'msb_uu': 0.0}, 'session': {'session_cnt': 2265.0}, 'dwelltime': {'dwelltime': 534014.0, 'dwelltime_uu': 964.0}}})\n",
      "(1736710, '2022-09-23', 1, '2130688B018F4B44BBED68E7A42BBA1E', 'pt-br', '#Overall#', '#Overall#', '#Overall#', '#Overall#', '#Overall#', '#Overall#', '#Overall#', '#Overall#', '', 'DefaultBrowser', '#Overall#', {'ActiveUser': {'uu': {'uu': 1687.0}, 'msa': {'msa_uu': 0.0}, 'msb': {'msb_uu': 0.0}, 'session': {'session_cnt': 4455.0}, 'dwelltime': {'dwelltime': 710232.0, 'dwelltime_uu': 1642.0}}})\n",
      "(1736713, '2022-09-23', 1, '4A5B528B59954AAE8725B509A41FBF1A', 'nb-no', '#Overall#', '#Overall#', '#Overall#', '#Overall#', 'Upsell', '#Overall#', '#Overall#', '#Overall#', '', '#Overall#', '#Overall#', {'ActiveUser': {'uu': {'uu': 106.0}, 'msa': {'msa_uu': 0.0}, 'msb': {'msb_uu': 0.0}, 'session': {'session_cnt': 161.0}, 'dwelltime': {'dwelltime': 32464.0, 'dwelltime_uu': 78.0}}})\n",
      "[(1736681, '2022-09-23', 1, '4DC5714ABCAD449BA13A9B701A3CF296', 'en-in', '#Overall#', '#Overall#', '23.3.400914606', '#Overall#', '#Overall#', '#Overall#', '#Overall#', '#Overall#', '', '#Overall#', '#Overall#', {'ActiveUser': {'uu': {'uu': 467.0}, 'msa': {'msa_uu': 0.0}, 'msb': {'msb_uu': 0.0}, 'session': {'session_cnt': 894.0}, 'dwelltime': {'dwelltime': 107686.0, 'dwelltime_uu': 382.0}}}), (1736686, '2022-09-23', 1, '4DC5714ABCAD449BA13A9B701A3CF296', 'en-xl', '#Overall#', '#Overall#', '#Overall#', '#Overall#', '#Overall#', '#Overall#', '#Overall#', '#Overall#', '', 'AppIcon', '#Overall#', {'NewUser': {'uu': {'uu': 2492.0}, 'msa': {'msa_uu': 0.0}, 'msb': {'msb_uu': 0.0}, 'session': {'session_cnt': 2944.0}, 'dwelltime': {'dwelltime': 154121.0, 'dwelltime_uu': 1570.0}}, 'ActiveUser': {'uu': {'uu': 12595.0}, 'msa': {'msa_uu': 0.0}, 'msb': {'msb_uu': 0.0}, 'session': {'session_cnt': 16372.0}, 'dwelltime': {'dwelltime': 1434959.0, 'dwelltime_uu': 9262.0}}}), (1736689, '2022-09-23', 1, '2130688B018F4B44BBED68E7A42BBA1E', 'pt-br', '#Overall#', '#Overall#', '23.3.400914305', '#Overall#', '#Overall#', '#Overall#', '#Overall#', '#Overall#', '', '#Overall#', '#Overall#', {'ActiveUser': {'uu': {'uu': 351.0}, 'msa': {'msa_uu': 0.0}, 'msb': {'msb_uu': 0.0}, 'session': {'session_cnt': 757.0}, 'dwelltime': {'dwelltime': 160134.0, 'dwelltime_uu': 342.0}}}), (1736693, '2022-09-23', 1, '2130688B018F4B44BBED68E7A42BBA1E', 'es-xl', '#Overall#', '#Overall#', '#Overall#', '#Overall#', 'Migrated', '#Overall#', '#Overall#', '#Overall#', '', '#Overall#', '#Overall#', {'ActiveUser': {'uu': {'uu': 5773.0}, 'msa': {'msa_uu': 0.0}, 'msb': {'msb_uu': 0.0}, 'session': {'session_cnt': 10194.0}, 'dwelltime': {'dwelltime': 2052632.0, 'dwelltime_uu': 5102.0}}}), (1736697, '2022-09-23', 1, '4DC5714ABCAD449BA13A9B701A3CF296', 'fr-fr', '#Overall#', '#Overall#', '22.9.400720606', '#Overall#', '#Overall#', '#Overall#', '#Overall#', '#Overall#', '', '#Overall#', '#Overall#', {'ActiveUser': {'uu': {'uu': 1359.0}, 'msa': {'msa_uu': 0.0}, 'msb': {'msb_uu': 0.0}, 'session': {'session_cnt': 2587.0}, 'dwelltime': {'dwelltime': 166152.0, 'dwelltime_uu': 1203.0}}}), (1736701, '2022-09-23', 1, '4DC5714ABCAD449BA13A9B701A3CF296', 'hu-hu', '#Overall#', '#Overall#', '#Overall#', '#Overall#', '#Overall#', '#Overall#', '#Overall#', '#Overall#', '', '#Overall#', '#Overall#', {'ActiveUser': {'uu': {'uu': 393.0}, 'msa': {'msa_uu': 0.0}, 'msb': {'msb_uu': 0.0}, 'session': {'session_cnt': 680.0}, 'dwelltime': {'dwelltime': 188053.0, 'dwelltime_uu': 366.0}}}), (1736703, '2022-09-23', 1, '2130688B018F4B44BBED68E7A42BBA1E', 'es-xl', '#Overall#', '#Overall#', '#Overall#', '#Overall#', '#Overall#', '#Overall#', '#Overall#', '#Overall#', '', '#Overall#', '#Overall#', {'NewUser': {'uu': {'uu': 499.0}, 'msa': {'msa_uu': 0.0}, 'msb': {'msb_uu': 0.0}, 'session': {'session_cnt': 680.0}, 'dwelltime': {'dwelltime': 76187.0, 'dwelltime_uu': 330.0}}, 'ActiveUser': {'uu': {'uu': 10241.0}, 'msa': {'msa_uu': 0.0}, 'msb': {'msb_uu': 0.0}, 'session': {'session_cnt': 17627.0}, 'dwelltime': {'dwelltime': 3441553.0, 'dwelltime_uu': 8783.0}}}), (1736706, '2022-09-23', 1, '4DC5714ABCAD449BA13A9B701A3CF296', 'fr-fr', '#Overall#', '#Overall#', '#Overall#', '#Overall#', 'Upsell', '#Overall#', '#Overall#', '#Overall#', '', '#Overall#', '#Overall#', {'NewUser': {'uu': {'uu': 64.0}, 'msa': {'msa_uu': 0.0}, 'msb': {'msb_uu': 0.0}, 'session': {'session_cnt': 119.0}, 'dwelltime': {'dwelltime': 20684.0, 'dwelltime_uu': 63.0}}, 'ActiveUser': {'uu': {'uu': 1016.0}, 'msa': {'msa_uu': 0.0}, 'msb': {'msb_uu': 0.0}, 'session': {'session_cnt': 2265.0}, 'dwelltime': {'dwelltime': 534014.0, 'dwelltime_uu': 964.0}}}), (1736710, '2022-09-23', 1, '2130688B018F4B44BBED68E7A42BBA1E', 'pt-br', '#Overall#', '#Overall#', '#Overall#', '#Overall#', '#Overall#', '#Overall#', '#Overall#', '#Overall#', '', 'DefaultBrowser', '#Overall#', {'ActiveUser': {'uu': {'uu': 1687.0}, 'msa': {'msa_uu': 0.0}, 'msb': {'msb_uu': 0.0}, 'session': {'session_cnt': 4455.0}, 'dwelltime': {'dwelltime': 710232.0, 'dwelltime_uu': 1642.0}}}), (1736713, '2022-09-23', 1, '4A5B528B59954AAE8725B509A41FBF1A', 'nb-no', '#Overall#', '#Overall#', '#Overall#', '#Overall#', 'Upsell', '#Overall#', '#Overall#', '#Overall#', '', '#Overall#', '#Overall#', {'ActiveUser': {'uu': {'uu': 106.0}, 'msa': {'msa_uu': 0.0}, 'msb': {'msb_uu': 0.0}, 'session': {'session_cnt': 161.0}, 'dwelltime': {'dwelltime': 32464.0, 'dwelltime_uu': 78.0}}})]\n"
     ]
    },
    {
     "data": {
      "text/plain": [
       "\"\\nsapphire.sapphire_engagement_metrics_master\\n\\ncount(distinct application_id) as app_count\\n#  我们在北美地区的用户数是多少？\\n\\n\\nmarket = 'es-ar'  阿根廷用户\\nmarket = 'es-mx'  墨西哥用户\\n\\n\""
      ]
     },
     "execution_count": 4,
     "metadata": {},
     "output_type": "execute_result"
    }
   ],
   "source": [
    "print(agentPGSQL.test(\"SELECT * FROM sapphire.sapphire_engagement_metrics_master LIMIT 10;\"))\n",
    "\"\"\"\n",
    "sapphire.sapphire_engagement_metrics_master\n",
    "\n",
    "count(distinct application_id) as app_count\n",
    "#  我们在北美地区的用户数是多少？\n",
    "\n",
    "\n",
    "market = 'es-ar'  阿根廷用户\n",
    "market = 'es-mx'  墨西哥用户\n",
    "\n",
    "\"\"\""
   ]
  }
 ],
 "metadata": {
  "kernelspec": {
   "display_name": "py38",
   "language": "python",
   "name": "python3"
  },
  "language_info": {
   "codemirror_mode": {
    "name": "ipython",
    "version": 3
   },
   "file_extension": ".py",
   "mimetype": "text/x-python",
   "name": "python",
   "nbconvert_exporter": "python",
   "pygments_lexer": "ipython3",
   "version": "3.8.0"
  }
 },
 "nbformat": 4,
 "nbformat_minor": 2
}
