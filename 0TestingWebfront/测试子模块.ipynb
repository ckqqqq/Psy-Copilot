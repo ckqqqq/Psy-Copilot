{
 "cells": [
  {
   "cell_type": "code",
   "execution_count": null,
   "metadata": {},
   "outputs": [],
   "source": [
    "parse arg --local : false\n",
    "parse arg --debug : false\n",
    "parse arg --localPGSQL : false\n",
    "parse arg --batch : true\n",
    "parse arg --date= : 2024-07-09\n",
    "create a spark session with hive support: org.bingviz.mt.dw.caishao.AddDWField$\n",
    "+--------------------------------+--------------------+--------------------------+\n",
    "|application_id                  |launch_source       |count(DISTINCT bingviz_id)|\n",
    "+--------------------------------+--------------------+--------------------------+\n",
    "|2130688B018F4B44BBED68E7A42BBA1E|WidgetCombo         |19                        |\n",
    "|2130688B018F4B44BBED68E7A42BBA1E|Deeplink            |8654                      |\n",
    "|2130688B018F4B44BBED68E7A42BBA1E|HmsToastNotification|52697                     |\n",
    "|AE427635ADC245AE973038BCB3D7C21B|Shortcut            |28                        |\n",
    "|AE427635ADC245AE973038BCB3D7C21B|DefaultBrowser      |279                       |\n",
    "|2130688B018F4B44BBED68E7A42BBA1E|AppIcon             |1927528                   |\n",
    "|2130688B018F4B44BBED68E7A42BBA1E|DefaultBrowser      |215783                    |\n",
    "|2130688B018F4B44BBED68E7A42BBA1E|WidgetCameraSearch  |2962                      |\n",
    "|2130688B018F4B44BBED68E7A42BBA1E|HomeScreenShortcut  |20898                     |\n",
    "|AE427635ADC245AE973038BCB3D7C21B|WidgetNews          |9                         |\n",
    "|AE427635ADC245AE973038BCB3D7C21B|AppIcon             |996375                    |\n",
    "|2130688B018F4B44BBED68E7A42BBA1E|DynamicShortcut     |1265                      |\n",
    "|2130688B018F4B44BBED68E7A42BBA1E|WidgetWeather       |12963                     |\n",
    "|2130688B018F4B44BBED68E7A42BBA1E|WidgetWallpaper     |19                        |\n",
    "|2130688B018F4B44BBED68E7A42BBA1E|INVALID             |479280                    |\n",
    "|AE427635ADC245AE973038BCB3D7C21B|URL                 |15126                     |\n",
    "|AE427635ADC245AE973038BCB3D7C21B|ToastNotification   |182928                    |\n",
    "|2130688B018F4B44BBED68E7A42BBA1E|WidgetCodex         |8554                      |\n",
    "|2130688B018F4B44BBED68E7A42BBA1E|WidgetVoiceSearch   |99                        |\n",
    "|2130688B018F4B44BBED68E7A42BBA1E|XiaomiMinusOnePage  |9                         |\n",
    "|2130688B018F4B44BBED68E7A42BBA1E|AliasSearch         |13                        |\n",
    "|2130688B018F4B44BBED68E7A42BBA1E|WidgetRewards       |56                        |\n",
    "|2130688B018F4B44BBED68E7A42BBA1E|WidgetSearch        |53888                     |\n",
    "|AE427635ADC245AE973038BCB3D7C21B|UniversalLink       |7829                      |\n",
    "|2130688B018F4B44BBED68E7A42BBA1E|WidgetNews          |879                       |\n",
    "|AE427635ADC245AE973038BCB3D7C21B|INVALID             |27595                     |\n",
    "|2130688B018F4B44BBED68E7A42BBA1E|ToastNotification   |403603                    |\n",
    "+--------------------------------+--------------------+--------------------------+\n",
    "\n",
    "+--------------------------------+--------------------+--------------------------+\n",
    "|application_id                  |launch_source_end   |count(DISTINCT bingviz_id)|\n",
    "+--------------------------------+--------------------+--------------------------+\n",
    "|2130688B018F4B44BBED68E7A42BBA1E|WidgetCombo         |19                        |\n",
    "|2130688B018F4B44BBED68E7A42BBA1E|Deeplink            |8637                      |\n",
    "|2130688B018F4B44BBED68E7A42BBA1E|HmsToastNotification|52726                     |\n",
    "|AE427635ADC245AE973038BCB3D7C21B|Shortcut            |28                        |\n",
    "|AE427635ADC245AE973038BCB3D7C21B|DefaultBrowser      |276                       |\n",
    "|2130688B018F4B44BBED68E7A42BBA1E|AppIcon             |1927405                   |\n",
    "|2130688B018F4B44BBED68E7A42BBA1E|DefaultBrowser      |215970                    |\n",
    "|2130688B018F4B44BBED68E7A42BBA1E|WidgetCameraSearch  |2967                      |\n",
    "|2130688B018F4B44BBED68E7A42BBA1E|HomeScreenShortcut  |20964                     |\n",
    "|AE427635ADC245AE973038BCB3D7C21B|WidgetNews          |9                         |\n",
    "|AE427635ADC245AE973038BCB3D7C21B|AppIcon             |994633                    |\n",
    "|2130688B018F4B44BBED68E7A42BBA1E|DynamicShortcut     |1274                      |\n",
    "|2130688B018F4B44BBED68E7A42BBA1E|WidgetWeather       |12754                     |\n",
    "|2130688B018F4B44BBED68E7A42BBA1E|WidgetWallpaper     |18                        |\n",
    "|2130688B018F4B44BBED68E7A42BBA1E|INVALID             |480927                    |\n",
    "|AE427635ADC245AE973038BCB3D7C21B|URL                 |15125                     |\n",
    "|AE427635ADC245AE973038BCB3D7C21B|ToastNotification   |182851                    |\n",
    "|2130688B018F4B44BBED68E7A42BBA1E|WidgetCodex         |8549                      |\n",
    "|2130688B018F4B44BBED68E7A42BBA1E|WidgetVoiceSearch   |97                        |\n",
    "|2130688B018F4B44BBED68E7A42BBA1E|XiaomiMinusOnePage  |9                         |\n",
    "|2130688B018F4B44BBED68E7A42BBA1E|AliasSearch         |13                        |\n",
    "|2130688B018F4B44BBED68E7A42BBA1E|WidgetRewards       |55                        |\n",
    "|2130688B018F4B44BBED68E7A42BBA1E|WidgetSearch        |53873                     |\n",
    "|AE427635ADC245AE973038BCB3D7C21B|UniversalLink       |7814                      |\n",
    "|2130688B018F4B44BBED68E7A42BBA1E|WidgetNews          |868                       |\n",
    "|AE427635ADC245AE973038BCB3D7C21B|INVALID             |30655                     |\n",
    "|2130688B018F4B44BBED68E7A42BBA1E|ToastNotification   |403534                    |\n",
    "+--------------------------------+--------------------+--------------------------+\n"
   ]
  },
  {
   "cell_type": "code",
   "execution_count": 1,
   "metadata": {},
   "outputs": [
    {
     "name": "stdout",
     "output_type": "stream",
     "text": [
      "2030-11-22 是 Fri.\n"
     ]
    }
   ],
   "source": [
    "import datetime\n",
    "\n",
    "def get_weekday(date_string):\n",
    "    try:\n",
    "        date_obj = datetime.datetime.strptime(date_string, '%Y-%m-%d')\n",
    "        return date_obj.strftime('%a')  # 返回星期几的简写，如Mon, Tue等\n",
    "    except ValueError:\n",
    "        return \"Invalid date format. Please use YYYY-MM-DD.\"\n",
    "\n",
    "# 示例用法\n",
    "date_input = input(\"请输入日期（格式为YYYY-MM-DD）：\")\n",
    "weekday = get_weekday(date_input)\n",
    "\n",
    "if weekday != \"Invalid date format. Please use YYYY-MM-DD.\":\n",
    "    print(f\"{date_input} 是 {weekday}.\")\n",
    "else:\n",
    "    print(weekday)\n"
   ]
  },
  {
   "cell_type": "code",
   "execution_count": 2,
   "metadata": {},
   "outputs": [
    {
     "data": {
      "text/plain": [
       "'Wed'"
      ]
     },
     "execution_count": 2,
     "metadata": {},
     "output_type": "execute_result"
    }
   ],
   "source": [
    "get_weekday('2024-7-10')"
   ]
  }
 ],
 "metadata": {
  "kernelspec": {
   "display_name": "py38",
   "language": "python",
   "name": "python3"
  },
  "language_info": {
   "codemirror_mode": {
    "name": "ipython",
    "version": 3
   },
   "file_extension": ".py",
   "mimetype": "text/x-python",
   "name": "python",
   "nbconvert_exporter": "python",
   "pygments_lexer": "ipython3",
   "version": "3.8.0"
  }
 },
 "nbformat": 4,
 "nbformat_minor": 2
}
