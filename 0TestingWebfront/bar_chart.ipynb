{
 "cells": [
  {
   "cell_type": "code",
   "execution_count": 5,
   "metadata": {},
   "outputs": [
    {
     "name": "stdout",
     "output_type": "stream",
     "text": [
      "当前时间戳: 1720594948\n"
     ]
    }
   ],
   "source": [
    "from datetime import datetime\n",
    "\n",
    "# 获取当前时间戳\n",
    "timestamp = datetime.now().timestamp()\n",
    "\n",
    "# 将时间戳转换为字符串\n",
    "timestamp_str = str(int(timestamp))\n",
    "\n",
    "print(\"当前时间戳:\", timestamp_str)"
   ]
  },
  {
   "cell_type": "code",
   "execution_count": 11,
   "metadata": {},
   "outputs": [],
   "source": [
    "import pandas as pd\n",
    "\n",
    "data = [\n",
    "    ('2024-06-09', 'Bing-Android', 39397464.0),\n",
    "    ('2024-06-09', 'Bing-IOS', 17309585.0)\n",
    "]\n",
    "\n",
    "# 设置列名\n",
    "columns = ['metrics_date', 'app_name', 'dau']\n",
    "# 创建 DataFrame\n",
    "df = pd.DataFrame(data, columns=columns)"
   ]
  },
  {
   "cell_type": "code",
   "execution_count": 51,
   "metadata": {},
   "outputs": [
    {
     "data": {
      "text/plain": [
       "'metrics_date,app_name,dau\\r\\n2024-06-09,Bing-Android,39397464.0\\r\\n2024-06-09,Bing-IOS,17309585.0\\r\\n'"
      ]
     },
     "execution_count": 51,
     "metadata": {},
     "output_type": "execute_result"
    }
   ],
   "source": [
    "df.to_csv(index=False)"
   ]
  },
  {
   "cell_type": "code",
   "execution_count": 45,
   "metadata": {},
   "outputs": [],
   "source": [
    "# 要执行的字符串表达式\n",
    "fewshot={\n",
    "\"x_axis\" : \"df['app_name'].tolist()\",\n",
    "\"y_axis\" : \"df['dau'].tolist()\",\n",
    "\"title\" : \"'dau'\",\n",
    "}"
   ]
  },
  {
   "cell_type": "code",
   "execution_count": 49,
   "metadata": {},
   "outputs": [],
   "source": [
    "import json\n",
    "fewshot=json.dumps(fewshot)"
   ]
  },
  {
   "cell_type": "code",
   "execution_count": 50,
   "metadata": {},
   "outputs": [
    {
     "data": {
      "text/plain": [
       "'{\"x_axis\": [\"Bing-Android\", \"Bing-IOS\"], \"y_axis\": [39397464.0, 17309585.0], \"title\": \"dau\"}'"
      ]
     },
     "execution_count": 50,
     "metadata": {},
     "output_type": "execute_result"
    }
   ],
   "source": [
    "fewshot"
   ]
  },
  {
   "cell_type": "code",
   "execution_count": null,
   "metadata": {},
   "outputs": [],
   "source": [
    "input_dataframe_csv_format=df.to_csv(index=False)\n",
    "output_json_format=fewshot\n",
    "visual_prompt=\"\"\"You are a code expert, you can provide useful transformation from pandas dataframe data to appropriate parameters json item for visualization function. Here is an example:\n",
    "Input: \n",
    "\n",
    "\"\"\""
   ]
  },
  {
   "cell_type": "code",
   "execution_count": 47,
   "metadata": {},
   "outputs": [],
   "source": [
    "\n",
    "# 使用 pd.eval() 执行字符串表达式\n",
    "for key,value in fewshot.items():\n",
    "    fewshot[key]=pd.eval(value)"
   ]
  },
  {
   "cell_type": "code",
   "execution_count": 39,
   "metadata": {},
   "outputs": [
    {
     "data": {
      "text/plain": [
       "{'x_axis': ['Bing-Android', 'Bing-IOS'],\n",
       " 'y_axis': [39397464.0, 17309585.0],\n",
       " 'title': 'dau'}"
      ]
     },
     "execution_count": 39,
     "metadata": {},
     "output_type": "execute_result"
    }
   ],
   "source": [
    "fewshot"
   ]
  },
  {
   "cell_type": "code",
   "execution_count": 40,
   "metadata": {},
   "outputs": [
    {
     "data": {
      "text/html": [
       "<div>\n",
       "<style scoped>\n",
       "    .dataframe tbody tr th:only-of-type {\n",
       "        vertical-align: middle;\n",
       "    }\n",
       "\n",
       "    .dataframe tbody tr th {\n",
       "        vertical-align: top;\n",
       "    }\n",
       "\n",
       "    .dataframe thead th {\n",
       "        text-align: right;\n",
       "    }\n",
       "</style>\n",
       "<table border=\"1\" class=\"dataframe\">\n",
       "  <thead>\n",
       "    <tr style=\"text-align: right;\">\n",
       "      <th></th>\n",
       "      <th>metrics_date</th>\n",
       "      <th>app_name</th>\n",
       "      <th>dau</th>\n",
       "    </tr>\n",
       "  </thead>\n",
       "  <tbody>\n",
       "    <tr>\n",
       "      <th>0</th>\n",
       "      <td>2024-06-09</td>\n",
       "      <td>Bing-Android</td>\n",
       "      <td>39397464.0</td>\n",
       "    </tr>\n",
       "    <tr>\n",
       "      <th>1</th>\n",
       "      <td>2024-06-09</td>\n",
       "      <td>Bing-IOS</td>\n",
       "      <td>17309585.0</td>\n",
       "    </tr>\n",
       "  </tbody>\n",
       "</table>\n",
       "</div>"
      ],
      "text/plain": [
       "  metrics_date      app_name         dau\n",
       "0   2024-06-09  Bing-Android  39397464.0\n",
       "1   2024-06-09      Bing-IOS  17309585.0"
      ]
     },
     "execution_count": 40,
     "metadata": {},
     "output_type": "execute_result"
    }
   ],
   "source": [
    "df"
   ]
  },
  {
   "cell_type": "code",
   "execution_count": 19,
   "metadata": {},
   "outputs": [],
   "source": [
    "from pyecharts import options as opts\n",
    "from pyecharts.charts import Bar\n",
    "from pyecharts.globals import ThemeType\n",
    "\n",
    "# 准备数据\n",
    "x_axis = ['Bing-Android', 'Start-IOS', 'Start-Android', 'Bing-IOS', 'Copilot-Android', 'Copilot-IOS']\n",
    "y_axis = [2799096, 333229, 589152, 1155005, 586037, 386357]\n",
    "\n",
    "def bar(x_axis,y_axis,title):\n",
    "    \"\"\"\n",
    "    bar(x_axis,y_axis,title) 是一个绘制柱状图的函数,柱状图适合描述不同类别（例如产品、地区、时间段等）的数量。本函数传入三个参数，分别是x轴的类别列表 x_，y轴的值，图表的标题。\n",
    "    \"\"\"\n",
    "    file_path=f\"./statics/bar_chart_{title}.html\"\n",
    "    bar = (\n",
    "        Bar(init_opts=opts.InitOpts(theme=ThemeType.LIGHT))\n",
    "        .add_xaxis(x_axis)\n",
    "        .add_yaxis(\"\", y_axis)\n",
    "        .set_global_opts(\n",
    "            title_opts=opts.TitleOpts(title=title),\n",
    "            xaxis_opts=opts.AxisOpts(axislabel_opts=opts.LabelOpts(rotate=45)),\n",
    "        )\n",
    "        .render(file_path)\n",
    "    )\n",
    "    print(\"BAR\")\n",
    "    return file_path\n",
    "\n",
    "bar_func = bar\n"
   ]
  },
  {
   "cell_type": "code",
   "execution_count": 21,
   "metadata": {},
   "outputs": [
    {
     "name": "stdout",
     "output_type": "stream",
     "text": [
      "BAR\n"
     ]
    },
    {
     "data": {
      "text/plain": [
       "'./statics/bar_chart_dau.html'"
      ]
     },
     "execution_count": 21,
     "metadata": {},
     "output_type": "execute_result"
    }
   ],
   "source": [
    "bar_func(fewshot[\"x_axis\"],fewshot[\"y_axis\"],fewshot[\"title\"])"
   ]
  }
 ],
 "metadata": {
  "kernelspec": {
   "display_name": "py38",
   "language": "python",
   "name": "python3"
  },
  "language_info": {
   "codemirror_mode": {
    "name": "ipython",
    "version": 3
   },
   "file_extension": ".py",
   "mimetype": "text/x-python",
   "name": "python",
   "nbconvert_exporter": "python",
   "pygments_lexer": "ipython3",
   "version": "3.8.0"
  }
 },
 "nbformat": 4,
 "nbformat_minor": 2
}
