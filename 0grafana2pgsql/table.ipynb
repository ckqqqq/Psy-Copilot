{
 "cells": [
  {
   "cell_type": "code",
   "execution_count": null,
   "metadata": {},
   "outputs": [],
   "source": [
    "{\"table1\":\"\"\"select metrics_date::date as time, sum(cast(device_retention_rate_new_daily->>'return_count' as DOUBLE PRECISION)) / sum(cast(device_retention_rate_new_daily->>'dau' as DOUBLE PRECISION)) as \"Retention D7 R1\"\n",
    "from sapphire.sapphire_retention_master\n",
    "where $__timeFilter(metrics_date)\n",
    "and offset_day = 7\n",
    "and application_id in (${Applications})\n",
    "and market = '#Overall#'\n",
    "and clientversion = '#Overall#'\n",
    "and install_source in ('Organic', 'FirstParty', 'RewardsUpsell', 'PaidAds', 'Google Ads ACI', 'Upsell')\n",
    "and osversion = '#Overall#'\n",
    "and build = '#Overall#'\n",
    "and mini_app = ''\n",
    "and launch_source = '#Overall#'\n",
    "and device_model = '#Overall#'\n",
    "group by metrics_date\"\"\",\"Dau 1d-by app\":\"\"\"SELECT\n",
    "    '#Overall#' as \"App\", \n",
    "    1 as \"Rolling\",\n",
    "    Overall as \"DAU\", \n",
    "    Overall-LastOverall as \"WoW -7d\", (Overall-LastOverall)/LastOverall as \"WoW% -7d\", \n",
    "    Overall-Last2_Overall as \"WoW -14d\", (Overall-Last2_Overall)/Last2_Overall as \"WoW% -14d\"\n",
    "FROM (\n",
    "    SELECT  \n",
    "        sum(case when metrics_date = last_date then Overall else 0 end) as Overall,\n",
    "        sum(case when metrics_date = to_char(cast(cast(last_date as timestamp) + '-7 d' as date), 'yyyy-mm-dd') then Overall else 0 end) as LastOverall,\n",
    "        sum(case when metrics_date = to_char(cast(cast(last_date as timestamp) + '-14 d' as date), 'yyyy-mm-dd') then Overall else 0 end) as Last2_Overall\n",
    "    FROM (\n",
    "        SELECT \n",
    "            metrics_date,\n",
    "            CASE WHEN cast(${__to:date:'YYYY-MM-DD'} as TEXT)>='${DauMetricsDate}' THEN cast('${DauMetricsDate}' as TEXT) ELSE cast(${__to:date:'YYYY-MM-DD'} as TEXT) END as last_date,\n",
    "            SUM(CAST(metrics->'ActiveUser'->'uu'->>'uu' AS DOUBLE PRECISION)) as Overall\n",
    "        FROM sapphire.sapphire_engagement_metrics_master\n",
    "        WHERE metrics_date>= to_char(cast(cast(${__from:date:'YYYY-MM-DD'} as timestamp) + '- 14 DAY' as date), 'yyyy-mm-dd')::TEXT AND metrics_date <= ${__to:date:'YYYY-MM-DD'}\n",
    "              AND application_id in ('2130688B018F4B44BBED68E7A42BBA1E','AE427635ADC245AE973038BCB3D7C21B','4DC5714ABCAD449BA13A9B701A3CF296','4A5B528B59954AAE8725B509A41FBF1A','F185A93DE6764B098D55089F610A3FB8','FC320C411FC12CD4DFBE9A00F3161364')\n",
    "              AND period = 1\n",
    "              AND market = '#Overall#'\n",
    "              AND os_version = '#Overall#'\n",
    "              AND device_model = '#Overall#'\n",
    "              AND client_version = '#Overall#'\n",
    "              AND client_build_type = '#Overall#'\n",
    "              AND install_channel_l1 = '#Overall#'\n",
    "              AND install_channel_l2 = '#Overall#'\n",
    "              AND install_channel_l3 = '#Overall#'\n",
    "              AND install_channel_l4 = '#Overall#'\n",
    "              AND mini_app = ''\n",
    "              AND first_launch_source = '#Overall#'\n",
    "              AND launch_source = '#Overall#'\n",
    "        GROUP BY \n",
    "            metrics_date\n",
    "    ) as a\n",
    ") as b\"\"\"\n",
    "}"
   ]
  }
 ],
 "metadata": {
  "language_info": {
   "name": "python"
  }
 },
 "nbformat": 4,
 "nbformat_minor": 2
}
