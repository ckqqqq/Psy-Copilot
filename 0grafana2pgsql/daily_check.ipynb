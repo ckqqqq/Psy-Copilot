{
 "cells": [
  {
   "cell_type": "code",
   "execution_count": 25,
   "metadata": {},
   "outputs": [],
   "source": [
    "import sys\n",
    "sys.path.append(r'C:\\Users\\v-keqichen\\Desktop\\Python_Pipeline\\BingViz-DM\\BingVizAdHoc\\Analytics\\users\\v-keqichen\\DataJavis')\n",
    "sys.path.append(r'C:\\Users\\v-keqichen\\Desktop\\Python_Pipeline\\BingViz-DM\\BingVizAdHoc\\Analytics\\users\\v-keqichen\\DataJavis\\0grafana2pgsql\\pgsql_set')\n",
    "from src.ToolPGSQL import ToolPGSQL"
   ]
  },
  {
   "cell_type": "code",
   "execution_count": 47,
   "metadata": {},
   "outputs": [],
   "source": [
    "a=\"$aaa $bbb\""
   ]
  },
  {
   "cell_type": "code",
   "execution_count": 49,
   "metadata": {},
   "outputs": [
    {
     "data": {
      "text/plain": [
       "'bbb $bbb'"
      ]
     },
     "execution_count": 49,
     "metadata": {},
     "output_type": "execute_result"
    }
   ],
   "source": [
    "from string import Template\n",
    "Template(a).safe_substitute(aaa='bbb')"
   ]
  },
  {
   "cell_type": "code",
   "execution_count": 41,
   "metadata": {},
   "outputs": [],
   "source": [
    "import json\n",
    "with open(r'C:\\Users\\v-keqichen\\Desktop\\Python_Pipeline\\BingViz-DM\\BingVizAdHoc\\Analytics\\users\\v-keqichen\\DataJavis\\0grafana2pgsql\\pgsql_set\\daily_check_v2.json','r') as f:\n",
    "    key_sqls=json.loads(f.read())"
   ]
  },
  {
   "cell_type": "code",
   "execution_count": null,
   "metadata": {},
   "outputs": [],
   "source": []
  },
  {
   "cell_type": "code",
   "execution_count": 39,
   "metadata": {},
   "outputs": [
    {
     "data": {
      "text/plain": [
       "{'DAU (R1)': 'SELECT\\n    \\'#Overall#\\' as \"App\", \\n    1 as \"Rolling\",\\n    Overall as \"DAU\", \\n    Overall-LastOverall as \"WoW -7d\", (Overall-LastOverall)/LastOverall as \"WoW% -7d\", \\n    Overall-Last2_Overall as \"WoW -14d\", (Overall-Last2_Overall)/Last2_Overall as \"WoW% -14d\"\\nFROM (\\n    SELECT  \\n        sum(case when metrics_date = last_date then Overall else 0 end) as Overall,\\n        sum(case when metrics_date = to_char(cast(cast(last_date as timestamp) + \\'-7 d\\' as date), \\'yyyy-mm-dd\\') then Overall else 0 end) as LastOverall,\\n        sum(case when metrics_date = to_char(cast(cast(last_date as timestamp) + \\'-14 d\\' as date), \\'yyyy-mm-dd\\') then Overall else 0 end) as Last2_Overall\\n    FROM (\\n        SELECT \\n            metrics_date,\\n            CASE WHEN cast(${__to:date:\\'YYYY-MM-DD\\'} as TEXT)>=\\'${DauMetricsDate}\\' THEN cast(\\'${DauMetricsDate}\\' as TEXT) ELSE cast(${__to:date:\\'YYYY-MM-DD\\'} as TEXT) END as last_date,\\n            SUM(CAST(metrics->\\'ActiveUser\\'->\\'uu\\'->>\\'uu\\' AS DOUBLE PRECISION)) as Overall\\n        FROM sapphire.sapphire_engagement_metrics_master\\n        WHERE metrics_date>= to_char(cast(cast(${__from:date:\\'YYYY-MM-DD\\'} as timestamp) + \\'- 14 DAY\\' as date), \\'yyyy-mm-dd\\')::TEXT AND metrics_date <= ${__to:date:\\'YYYY-MM-DD\\'}\\n              AND application_id in (\\'2130688B018F4B44BBED68E7A42BBA1E\\',\\'AE427635ADC245AE973038BCB3D7C21B\\',\\'4DC5714ABCAD449BA13A9B701A3CF296\\',\\'4A5B528B59954AAE8725B509A41FBF1A\\',\\'F185A93DE6764B098D55089F610A3FB8\\',\\'FC320C411FC12CD4DFBE9A00F3161364\\')\\n              AND period = 1\\n              AND market = \\'#Overall#\\'\\n              AND os_version = \\'#Overall#\\'\\n              AND device_model = \\'#Overall#\\'\\n              AND client_version = \\'#Overall#\\'\\n              AND client_build_type = \\'#Overall#\\'\\n              AND install_channel_l1 = \\'#Overall#\\'\\n              AND install_channel_l2 = \\'#Overall#\\'\\n              AND install_channel_l3 = \\'#Overall#\\'\\n              AND install_channel_l4 = \\'#Overall#\\'\\n              AND mini_app = \\'\\'\\n              AND first_launch_source = \\'#Overall#\\'\\n              AND launch_source = \\'#Overall#\\'\\n        GROUP BY \\n            metrics_date\\n    ) as a\\n) as b\\n',\n",
       " 'DAU (R7)': 'SELECT\\n    \\'#Overall#\\' as \"App\", \\n    7 as \"Rolling\",\\n    Overall as \"DAU\", \\n    Overall-LastOverall as \"WoW -7d\", (Overall-LastOverall)/LastOverall as \"WoW% -7d\", \\n    Overall-Last2_Overall as \"WoW -14d\", (Overall-Last2_Overall)/Last2_Overall as \"WoW% -14d\"\\nFROM (\\n    SELECT  \\n        sum(case when metrics_date = last_date then Overall else 0 end) as Overall,\\n        sum(case when metrics_date = to_char(cast(cast(last_date as timestamp) + \\'-7 d\\' as date), \\'yyyy-mm-dd\\') then Overall else 0 end) as LastOverall,\\n        sum(case when metrics_date = to_char(cast(cast(last_date as timestamp) + \\'-14 d\\' as date), \\'yyyy-mm-dd\\') then Overall else 0 end) as Last2_Overall\\n    FROM (\\n                select metrics_date, last_date, AVG(\"DAU\") OVER (ORDER BY metrics_date ROWS BETWEEN 6 PRECEDING AND CURRENT ROW) AS Overall\\n                from \\n                (\\n                SELECT \\n                    metrics_date, CASE WHEN cast(${__to:date:\\'YYYY-MM-DD\\'} as TEXT)>=\\'${DauMetricsDate}\\' THEN cast(\\'${DauMetricsDate}\\' as TEXT) ELSE cast(${__to:date:\\'YYYY-MM-DD\\'} as TEXT) END as last_date, \\n                    SUM(CAST(metrics->\\'ActiveUser\\'->\\'uu\\'->>\\'uu\\' AS DOUBLE PRECISION)) as \"DAU\"\\n                FROM sapphire.sapphire_engagement_metrics_master\\n                WHERE metrics_date>= to_char(cast(cast(${__from:date:\\'YYYY-MM-DD\\'} as timestamp) + \\'- 14 DAY\\' as date), \\'yyyy-mm-dd\\')::TEXT AND metrics_date <= ${__to:date:\\'YYYY-MM-DD\\'}\\n                  AND application_id in (\\'2130688B018F4B44BBED68E7A42BBA1E\\',\\'AE427635ADC245AE973038BCB3D7C21B\\',\\'4DC5714ABCAD449BA13A9B701A3CF296\\',\\'4A5B528B59954AAE8725B509A41FBF1A\\',\\'F185A93DE6764B098D55089F610A3FB8\\',\\'FC320C411FC12CD4DFBE9A00F3161364\\')\\n                  AND period = 1\\n                  AND market = \\'#Overall#\\'\\n                  AND os_version = \\'#Overall#\\'\\n                  AND device_model = \\'#Overall#\\'\\n                  AND client_version = \\'#Overall#\\'\\n                  AND client_build_type = \\'#Overall#\\'\\n                  AND install_channel_l1 = \\'#Overall#\\'\\n                  AND install_channel_l2 = \\'#Overall#\\'\\n                  AND install_channel_l3 = \\'#Overall#\\'\\n                  AND install_channel_l4 = \\'#Overall#\\'\\n                  AND mini_app = \\'\\'\\n                  AND first_launch_source = \\'#Overall#\\'\\n                  AND launch_source = \\'#Overall#\\'\\n                Group by metrics_date\\n\\n                ) t \\n\\n        ) as a\\n    ) as b',\n",
       " 'User Retention 7d - all markets': 'SELECT\\n     \\'#Overall#\\' as \"App\",  \\n     1 as \"Rolling\",\\n     Overall as \"Retention D7\",  \\n    (Overall-LastOverall)*100 as \"WoW -7d\", (Overall-LastOverall)/LastOverall as \"WoW% -7d\",\\n    (Overall-Last2_Overall)*100 as \"WoW -14d\", (Overall-Last2_Overall)/Last2_Overall as \"WoW% -14d\"\\nFROM (\\n    SELECT\\n        sum(case when metrics_date = last_date then Overall else 0 end) as Overall,\\n        sum(case when metrics_date = to_char(cast(cast(last_date as timestamp) + \\'-7 d\\' as date), \\'yyyy-mm-dd\\') then Overall else 0 end) as LastOverall,\\n        sum(case when metrics_date = to_char(cast(cast(last_date as timestamp) + \\'-14 d\\' as date), \\'yyyy-mm-dd\\') then Overall else 0 end) as Last2_Overall\\n    FROM (\\n            SELECT metrics_date, \\n            CASE WHEN cast(${__to:date:\\'YYYY-MM-DD\\'} as TEXT)>=to_char(cast(cast(\\'${$RetentionMetricsDate}\\' as timestamp) + \\'-7 d\\' as date), \\'yyyy-mm-dd\\')  \\n                THEN to_char(cast(cast(\\'${$RetentionMetricsDate}\\' as timestamp) + \\'-7 d\\' as date), \\'yyyy-mm-dd\\') \\n                ELSE cast(${__to:date:\\'YYYY-MM-DD\\'} as TEXT) END as last_date,\\n                sum(cast(device_retention_rate_new_daily->>\\'return_count\\' as DOUBLE PRECISION)) / sum(cast(device_retention_rate_new_daily->>\\'dau\\' as DOUBLE PRECISION)) as Overall\\n            FROM sapphire.sapphire_retention_master\\n            WHERE metrics_date>= to_char(cast(cast(${__from:date:\\'YYYY-MM-DD\\'} as timestamp) + \\'- 21 DAY\\' as date), \\'yyyy-mm-dd\\')::TEXT AND metrics_date <= ${__to:date:\\'YYYY-MM-DD\\'}\\n                AND offset_day = 7\\n                AND application_id in (\\'2130688B018F4B44BBED68E7A42BBA1E\\',\\'AE427635ADC245AE973038BCB3D7C21B\\',\\'4DC5714ABCAD449BA13A9B701A3CF296\\',\\'4A5B528B59954AAE8725B509A41FBF1A\\',\\'F185A93DE6764B098D55089F610A3FB8\\',\\'FC320C411FC12CD4DFBE9A00F3161364\\')\\n                AND market = \\'#Overall#\\'\\n                -- AND market in (\\'en-US\\',\\'en-GB\\',\\'de-DE\\',\\'fr-FR\\',\\'en-AU\\',\\'en-CA\\',\\'fr-CA\\')\\n                AND clientversion = \\'#Overall#\\'\\n                AND install_source in (\\'Organic\\', \\'FirstParty\\', \\'RewardsUpsell\\', \\'PaidAds\\', \\'Google Ads ACI\\', \\'Upsell\\')\\n                AND osversion = \\'#Overall#\\'\\n                AND build = \\'#Overall#\\'\\n                AND mini_app = \\'\\'\\n                AND launch_source = \\'#Overall#\\'\\n                AND device_model = \\'#Overall#\\'\\n            GROUP BY metrics_date\\n    ) as a\\n) as b',\n",
       " 'User Retention 7d rolling avg - all markets': 'SELECT\\n     \\'#Overall#\\' as \"App\",  \\n     7 as \"Rolling\",\\n     Overall as \"Retention D7\",  \\n    (Overall-LastOverall)*100 as \"WoW -7d\", (Overall-LastOverall)/LastOverall as \"WoW% -7d\",\\n    (Overall-Last2_Overall)*100 as \"WoW -14d\", (Overall-Last2_Overall)/Last2_Overall as \"WoW% -14d\"\\nFROM (\\n    SELECT\\n        sum(case when metrics_date = last_date then Overall else 0 end) as Overall,\\n        sum(case when metrics_date = to_char(cast(cast(last_date as timestamp) + \\'-7 d\\' as date), \\'yyyy-mm-dd\\') then Overall else 0 end) as LastOverall,\\n        sum(case when metrics_date = to_char(cast(cast(last_date as timestamp) + \\'-14 d\\' as date), \\'yyyy-mm-dd\\') then Overall else 0 end) as Last2_Overall\\n    FROM (\\n\\n            select metrics_date, last_date, AVG(\"retention\") OVER (ORDER BY metrics_date ROWS BETWEEN 6 PRECEDING AND CURRENT ROW) AS Overall\\n            from \\n            (\\n                SELECT metrics_date,\\n                            CASE WHEN cast(${__to:date:\\'YYYY-MM-DD\\'} as TEXT)>=to_char(cast(cast(\\'${$RetentionMetricsDate}\\' as timestamp) + \\'-7 d\\' as date), \\'yyyy-mm-dd\\')  \\n                THEN to_char(cast(cast(\\'${$RetentionMetricsDate}\\' as timestamp) + \\'-7 d\\' as date), \\'yyyy-mm-dd\\') \\n                ELSE cast(${__to:date:\\'YYYY-MM-DD\\'} as TEXT) END as last_date,\\n                    sum(cast(device_retention_rate_new_daily->>\\'return_count\\' as DOUBLE PRECISION)) / sum(cast(device_retention_rate_new_daily->>\\'dau\\' as DOUBLE PRECISION)) as \"retention\"\\n                FROM sapphire.sapphire_retention_master\\n                WHERE metrics_date>= to_char(cast(cast(${__from:date:\\'YYYY-MM-DD\\'} as timestamp) + \\'- 28 DAY\\' as date), \\'yyyy-mm-dd\\')::TEXT \\n                AND metrics_date <= to_char(cast(cast(\\'${RetentionMetricsDate}\\' as timestamp) + \\'-7 d\\' as date), \\'yyyy-mm-dd\\')::TEXT \\n                    AND offset_day = 7\\n                    AND application_id in (\\'2130688B018F4B44BBED68E7A42BBA1E\\',\\'AE427635ADC245AE973038BCB3D7C21B\\',\\'4DC5714ABCAD449BA13A9B701A3CF296\\',\\'4A5B528B59954AAE8725B509A41FBF1A\\', \\'F185A93DE6764B098D55089F610A3FB8\\', \\'FC320C411FC12CD4DFBE9A00F3161364\\')\\n                    AND market = \\'#Overall#\\'\\n                    -- AND market in (\\'en-US\\',\\'en-GB\\',\\'de-DE\\',\\'fr-FR\\',\\'en-AU\\',\\'en-CA\\',\\'fr-CA\\')\\n                    AND clientversion = \\'#Overall#\\'\\n                    AND install_source in (\\'Organic\\', \\'FirstParty\\', \\'RewardsUpsell\\', \\'PaidAds\\', \\'Google Ads ACI\\', \\'Upsell\\')\\n                    AND osversion = \\'#Overall#\\'\\n                    AND build = \\'#Overall#\\'\\n                    AND mini_app = \\'\\'\\n                    AND launch_source = \\'#Overall#\\'\\n                    AND device_model = \\'#Overall#\\'\\n                GROUP BY metrics_date\\n            ) t \\n\\n    ) as a\\n) as b\\n',\n",
       " 'Chat Active DAU (R1)': 'SELECT\\n     \\'#Overall#\\' as \"App\",  \\n     1 as \"Rolling\",\\n     Overall as \"Retention D7\",  \\n    (Overall-LastOverall)*100 as \"WoW -7d\", (Overall-LastOverall)/LastOverall as \"WoW% -7d\",\\n    (Overall-Last2_Overall)*100 as \"WoW -14d\", (Overall-Last2_Overall)/Last2_Overall as \"WoW% -14d\"\\nFROM (\\n    SELECT\\n        sum(case when metrics_date = last_date then Overall else 0 end) as Overall,\\n        sum(case when metrics_date = to_char(cast(cast(last_date as timestamp) + \\'-7 d\\' as date), \\'yyyy-mm-dd\\') then Overall else 0 end) as LastOverall,\\n        sum(case when metrics_date = to_char(cast(cast(last_date as timestamp) + \\'-14 d\\' as date), \\'yyyy-mm-dd\\') then Overall else 0 end) as Last2_Overall\\n    FROM (\\n            SELECT metrics_date, \\n            CASE WHEN cast(${__to:date:\\'YYYY-MM-DD\\'} as TEXT)>=to_char(cast(cast(\\'${$RetentionMetricsDate}\\' as timestamp) + \\'-7 d\\' as date), \\'yyyy-mm-dd\\')  \\n                THEN to_char(cast(cast(\\'${$RetentionMetricsDate}\\' as timestamp) + \\'-7 d\\' as date), \\'yyyy-mm-dd\\') \\n                ELSE cast(${__to:date:\\'YYYY-MM-DD\\'} as TEXT) END as last_date,\\n                sum(cast(device_retention_rate_new_daily->>\\'return_count\\' as DOUBLE PRECISION)) / sum(cast(device_retention_rate_new_daily->>\\'dau\\' as DOUBLE PRECISION)) as Overall\\n            FROM sapphire.sapphire_retention_master\\n            WHERE metrics_date>= to_char(cast(cast(${__from:date:\\'YYYY-MM-DD\\'} as timestamp) + \\'- 21 DAY\\' as date), \\'yyyy-mm-dd\\')::TEXT AND metrics_date <= ${__to:date:\\'YYYY-MM-DD\\'}\\n                AND offset_day = 7\\n                AND application_id in (\\'2130688B018F4B44BBED68E7A42BBA1E\\',\\'AE427635ADC245AE973038BCB3D7C21B\\',\\'4DC5714ABCAD449BA13A9B701A3CF296\\',\\'4A5B528B59954AAE8725B509A41FBF1A\\',\\'F185A93DE6764B098D55089F610A3FB8\\',\\'FC320C411FC12CD4DFBE9A00F3161364\\')\\n                AND market = \\'#Overall#\\'\\n                -- AND market in (\\'en-US\\',\\'en-GB\\',\\'de-DE\\',\\'fr-FR\\',\\'en-AU\\',\\'en-CA\\',\\'fr-CA\\')\\n                AND clientversion = \\'#Overall#\\'\\n                AND install_source in (\\'Organic\\', \\'FirstParty\\', \\'RewardsUpsell\\', \\'PaidAds\\', \\'Google Ads ACI\\', \\'Upsell\\')\\n                AND osversion = \\'#Overall#\\'\\n                AND build = \\'#Overall#\\'\\n                AND mini_app = \\'\\'\\n                AND launch_source = \\'#Overall#\\'\\n                AND device_model = \\'#Overall#\\'\\n            GROUP BY metrics_date\\n    ) as a\\n) as b',\n",
       " 'Chat Active DAU (R7)': 'SELECT\\n    \\'#Overall#\\' as \"App\", \\n    7 as \"Rolling\",\\n    Overall as \"DAU\", \\n    Overall-LastOverall as \"WoW -7d\", (Overall-LastOverall)/LastOverall as \"WoW% -7d\", \\n    Overall-Last2_Overall as \"WoW -14d\", (Overall-Last2_Overall)/Last2_Overall as \"WoW% -14d\"\\nFROM (\\n    SELECT  \\n        sum(case when date = last_date then Overall else 0 end) as Overall,\\n        sum(case when date = last_date + \\'-7 d\\' then Overall else 0 end) as LastOverall,\\n        sum(case when date = last_date + \\'-14 d\\' then Overall else 0 end) as Last2_Overall\\n    FROM\\n    (\\n    select \\n    date, \\n    (max(date) OVER (ORDER BY date desc)) as last_date,\\n    AVG(\"DAU\") OVER (ORDER BY date ROWS BETWEEN 6 PRECEDING AND CURRENT ROW) AS Overall\\n    FROM (\\nSELECT \\n\\tcast(metrics_date as timestamp) as date,\\n        SUM(CAST(metrics->\\'ActiveUser\\'->\\'dau\\'->\\'chat_active_dau\\' AS DOUBLE PRECISION)) AS \"DAU\"\\nFROM codex_metrics.codex_engagement_metrics_master\\nWHERE metrics_date >= to_char(cast(cast(${__from:date:\\'YYYY-MM-DD\\'} as timestamp) + \\'- 7 DAY\\' as date), \\'yyyy-mm-dd\\')::TEXT \\n  AND metrics_date <= ${__to:date:\\'YYYY-MM-DD\\'}\\n  AND application_id in (\\'2130688B018F4B44BBED68E7A42BBA1E\\',\\'AE427635ADC245AE973038BCB3D7C21B\\',\\'4DC5714ABCAD449BA13A9B701A3CF296\\',\\'4A5B528B59954AAE8725B509A41FBF1A\\',\\'F185A93DE6764B098D55089F610A3FB8\\',\\'FC320C411FC12CD4DFBE9A00F3161364\\')\\n\\tAND id_type= \\'reportable_id\\'\\n  AND market =\\'#Overall#\\'\\n  AND install_channel_l1 =\\'#Overall#\\'\\n  AND install_channel_l2 =\\'#Overall#\\'\\n\\tAND first_launch_entry_point =\\'#Overall#\\'\\n\\tAND period = 1\\n\\tAND os_version =\\'#Overall#\\'\\n\\tAND device_model =\\'#Overall#\\'\\n\\tAND client_version =\\'#Overall#\\'\\n\\tAND client_build_type =\\'#Overall#\\'\\n\\tAND install_channel_l3 =\\'#Overall#\\'\\n\\tAND install_channel_l4 =\\'#Overall#\\'\\n\\tAND mini_app =\\'#Overall#\\'\\n\\tAND first_launch_source =\\'#Overall#\\'\\nGROUP BY metrics_date\\n        )  a\\n    ) as b\\n) as c\\nCROSS JOIN generate_series(1,5)'}"
      ]
     },
     "execution_count": 39,
     "metadata": {},
     "output_type": "execute_result"
    }
   ],
   "source": []
  },
  {
   "cell_type": "code",
   "execution_count": 40,
   "metadata": {},
   "outputs": [],
   "source": [
    "pgsql_transform_table={\"$__timeFilter(metrics_date)\":\"\"\"\n",
    "           metrics_date >= '$start_date' -- Adjust the start date as needed\n",
    "    AND metrics_date <= '$end_date' -- Adjust the end date as needed\"\"\",\n",
    "           \"metrics_date::date\":\"metrics_date\",\n",
    "           \"\"\"${__from:date:'YYYY-MM-DD'}\"\"\":\"'$start_date'\",\n",
    "           \"\"\"${__to:date:'YYYY-MM-DD'}\"\"\":\"'$end_date'\",\n",
    "           \"\"\"${Applications}\"\"\":\"\"\"'2130688B018F4B44BBED68E7A42BBA1E',\n",
    "        'AE427635ADC245AE973038BCB3D7C21B',\n",
    "        '4DC5714ABCAD449BA13A9B701A3CF296',\n",
    "        '4A5B528B59954AAE8725B509A41FBF1A',\n",
    "        'F185A93DE6764B098D55089F610A3FB8',\n",
    "        'FC320C411FC12CD4DFBE9A00F3161364'\"\"\",\n",
    "        \"\"\"${DauMetricsDate}\"\"\":\"\"\"${dau_metrics_date}\"\"\"\n",
    "           }"
   ]
  },
  {
   "cell_type": "code",
   "execution_count": 42,
   "metadata": {},
   "outputs": [
    {
     "name": "stdout",
     "output_type": "stream",
     "text": [
      "init_SQL_Tool, time_out=20s\n",
      "PGSQL Connection successful\n",
      "{'host': 'bingviz-metrics-storage-dup.postgres.database.azure.com', 'port': '5432', 'dbname': 'metrics', 'user': 'bingviz_metrics', 'password': \"xb;Rt&F4~]XWj:@r-7.df'QD\", 'connect_timeout': 20}\n",
      "<connection object at 0x0000018F79F8F590; dsn: 'user=bingviz_metrics password=xxx connect_timeout=20 dbname=metrics host=bingviz-metrics-storage-dup.postgres.database.azure.com port=5432', closed: 0>\n"
     ]
    }
   ],
   "source": [
    "def regular(value:str):\n",
    "    for origin,target in pgsql_transform_table.items():\n",
    "        value=value.replace(origin,target)\n",
    "    return value\n",
    "toolPGSQL = ToolPGSQL(timeout=20)\n",
    "for key,value in key_sqls.items():\n",
    "    key_sqls[key]=regular(value)\n",
    "from string import Template\n",
    "# for key,sql_template in key_sqls.items():\n",
    "#     print(toolPGSQL.execute_v2(Template(sql_template).substitute(start_date='2024-07-01',end_date='2024-07-16',dau_metrics_date='2024-07-16',rolling_day=1),debug=False))"
   ]
  },
  {
   "cell_type": "code",
   "execution_count": 44,
   "metadata": {},
   "outputs": [
    {
     "name": "stdout",
     "output_type": "stream",
     "text": [
      "{'DAU (rolling ${rolling_day} day)': 'select metrics_date as \"time\", AVG(\"DAU\") OVER (ORDER BY metrics_date ROWS BETWEEN ${rolling_day}-1 PRECEDING AND CURRENT ROW) AS \"DAU (R${rolling_day})\"\\nfrom \\n(\\nSELECT \\n    metrics_date, SUM(CAST(metrics->\\'ActiveUser\\'->\\'uu\\'->>\\'uu\\' AS DOUBLE PRECISION)) as \"DAU\"\\nFROM sapphire.sapphire_engagement_metrics_master\\nWHERE metrics_date >= to_char(cast(cast(\\'$start_date\\' as timestamp) + \\'- ${rolling_day} DAY\\' as date), \\'yyyy-mm-dd\\')::TEXT AND metrics_date <= \\'$end_date\\'\\n      AND application_id IN (\\'2130688B018F4B44BBED68E7A42BBA1E\\',\\n        \\'AE427635ADC245AE973038BCB3D7C21B\\',\\n        \\'4DC5714ABCAD449BA13A9B701A3CF296\\',\\n        \\'4A5B528B59954AAE8725B509A41FBF1A\\',\\n        \\'F185A93DE6764B098D55089F610A3FB8\\',\\n        \\'FC320C411FC12CD4DFBE9A00F3161364\\')\\n      AND period = 1\\n      AND market = \\'#Overall#\\'\\n      AND os_version = \\'#Overall#\\'\\n      AND device_model = \\'#Overall#\\'\\n      AND client_version = \\'#Overall#\\'\\n      AND client_build_type = \\'#Overall#\\'\\n      AND install_channel_l1 = \\'#Overall#\\'\\n      AND install_channel_l2 = \\'#Overall#\\'\\n      AND install_channel_l3 = \\'#Overall#\\'\\n      AND install_channel_l4 = \\'#Overall#\\'\\n      AND mini_app = \\'\\'\\n      AND first_launch_source = \\'#Overall#\\'\\n      AND launch_source = \\'#Overall#\\'\\n    GROUP BY metrics_date\\n\\n) t \\n\\n', 'User Retention 7d rolling ${rolling_day} day - all markets': 'SELECT\\n    metrics_date AS \"time\", AVG(a.\"RetentionRate_7D\") OVER (ORDER BY metrics_date ROWS BETWEEN ${rolling_day}-1 PRECEDING AND CURRENT ROW) AS \"Retention D7 R${rolling_day}\"\\nFROM(\\n    SELECT \\n        metrics_date, sum(cast(device_retention_rate_new_daily->>\\'return_count\\' as DOUBLE PRECISION)) / sum(cast(device_retention_rate_new_daily->>\\'dau\\' as DOUBLE PRECISION)) as \"RetentionRate_7D\"\\n    from sapphire.sapphire_retention_master\\n    where metrics_date >= cast(cast(\\'$start_date\\' as timestamp) + \\'- 7 DAY\\' as TEXT) AND metrics_date <= cast(\\'$end_date\\' as TEXT)\\n        and offset_day = 7\\n        and application_id in (\\'2130688B018F4B44BBED68E7A42BBA1E\\',\\n        \\'AE427635ADC245AE973038BCB3D7C21B\\',\\n        \\'4DC5714ABCAD449BA13A9B701A3CF296\\',\\n        \\'4A5B528B59954AAE8725B509A41FBF1A\\',\\n        \\'F185A93DE6764B098D55089F610A3FB8\\',\\n        \\'FC320C411FC12CD4DFBE9A00F3161364\\')\\n        and market = \\'#Overall#\\'\\n        and clientversion = \\'#Overall#\\'\\n        and install_source in (\\'Organic\\', \\'FirstParty\\', \\'RewardsUpsell\\', \\'PaidAds\\', \\'Google Ads ACI\\', \\'Upsell\\')\\n        and osversion = \\'#Overall#\\'\\n        and build = \\'#Overall#\\'\\n        and mini_app = \\'\\'\\n        and launch_source = \\'#Overall#\\'\\n        and device_model = \\'#Overall#\\'\\n    group by metrics_date\\n) a', 'Chat Active DAU (rolling ${rolling_day} day)': 'select  metrics_date as \"time\", AVG(\"Chat_Active_DAU\") OVER (ORDER BY metrics_date ROWS BETWEEN ${rolling_day}-1 PRECEDING AND CURRENT ROW) AS \"Chat Active DAU (R${rolling_day})\"\\nfrom (\\nSELECT \\n  metrics_date,\\n  SUM(CAST(metrics->\\'ActiveUser\\'->\\'dau\\'->\\'chat_active_dau\\' AS DOUBLE PRECISION)) AS \"Chat_Active_DAU\"\\nFROM codex_metrics.codex_engagement_metrics_master\\nWHERE metrics_date >= to_char(cast(cast(\\'$start_date\\' as timestamp) + \\'- ${rolling_day} DAY\\' as date), \\'yyyy-mm-dd\\')::TEXT \\n  AND metrics_date <= \\'$end_date\\'\\n  AND application_id in (\\'2130688B018F4B44BBED68E7A42BBA1E\\',\\n        \\'AE427635ADC245AE973038BCB3D7C21B\\',\\n        \\'4DC5714ABCAD449BA13A9B701A3CF296\\',\\n        \\'4A5B528B59954AAE8725B509A41FBF1A\\',\\n        \\'F185A93DE6764B098D55089F610A3FB8\\',\\n        \\'FC320C411FC12CD4DFBE9A00F3161364\\')\\n\\tAND id_type= \\'reportable_id\\'\\n  AND market =\\'#Overall#\\'\\n  AND install_channel_l1 =\\'#Overall#\\'\\n  AND install_channel_l2 =\\'#Overall#\\'\\n\\tAND first_launch_entry_point =\\'#Overall#\\'\\n\\tAND period = 1\\n\\tAND os_version =\\'#Overall#\\'\\n\\tAND device_model =\\'#Overall#\\'\\n\\tAND client_version =\\'#Overall#\\'\\n\\tAND client_build_type =\\'#Overall#\\'\\n\\tAND install_channel_l3 =\\'#Overall#\\'\\n\\tAND install_channel_l4 =\\'#Overall#\\'\\n\\tAND mini_app =\\'#Overall#\\'\\n\\tAND first_launch_source =\\'#Overall#\\'\\nGROUP BY metrics_date\\n) t\\n'}\n"
     ]
    }
   ],
   "source": [
    "print(str(key_sqls))"
   ]
  },
  {
   "cell_type": "code",
   "execution_count": 30,
   "metadata": {},
   "outputs": [
    {
     "data": {
      "text/plain": [
       "dict_keys(['DAU (rolling ${rolling_day} day)', 'User Retention 7d rolling ${rolling_day} day - all markets', 'Chat Active DAU (rolling ${rolling_day} day)'])"
      ]
     },
     "execution_count": 30,
     "metadata": {},
     "output_type": "execute_result"
    }
   ],
   "source": [
    "key_sqls.keys()"
   ]
  },
  {
   "cell_type": "code",
   "execution_count": 35,
   "metadata": {},
   "outputs": [
    {
     "data": {
      "text/plain": [
       "[['2024-07-11', 5133543.0, -192994.85714285728, 5211443.0, -46197.0],\n",
       " ['2024-07-10',\n",
       "  0.12328767072713977,\n",
       "  0.02388727949170459,\n",
       "  0.12913746749526203,\n",
       "  0.004080515735680468],\n",
       " ['2024-07-11', 1116056.4285714286, -69815.71428571432, 1081294.0, -116028.0]]"
      ]
     },
     "execution_count": 35,
     "metadata": {},
     "output_type": "execute_result"
    }
   ],
   "source": [
    "from string import Template\n",
    "from datetime import datetime, timedelta\n",
    "from datetime import datetime, timedelta\n",
    " \n",
    "def tool_dau(start_date:str,end_date:str,rolling_day=1):\n",
    "    \"\"\"Retrieve DAU within the [start_date, end_date] time range, optionally using a rolling average over rolling_day days.\n",
    "    \n",
    "    Input:\n",
    "        start_date (e.g., 2024-07-10), end_date (e.g., 2024-07-14) ,rolling_day (e.g. 7 or 1)\n",
    "    Output:\n",
    "        a pandas dataframe\n",
    "    \"\"\"\n",
    "    sql_template=key_sqls[\"DAU (rolling ${rolling_day} day)\"]\n",
    "    return_pandas=toolPGSQL.execute_v2(Template(sql_template).substitute(start_date=start_date,end_date=end_date,rolling_day=rolling_day),debug=False)\n",
    "    return return_pandas\n",
    "def tool_retention(start_date:str,end_date:str,rolling_day=7):\n",
    "    \"\"\"Retrieve Chat DAU within the [start_date, end_date] time range, optionally using a rolling average over rolling_day days.\n",
    "    \n",
    "    Input:\n",
    "        start_date (e.g., 2024-07-10), end_date (e.g., 2024-07-14) ,rolling_day (e.g. 7 or 1)\n",
    "    Output:\n",
    "        a pandas dataframe\n",
    "    \"\"\"\n",
    "    sql_template=key_sqls['User Retention 7d rolling ${rolling_day} day - all markets']\n",
    "    return_pandas=toolPGSQL.execute_v2(Template(sql_template).substitute(start_date=start_date,end_date=end_date,dau_metrics_date=end_date,rolling_day=rolling_day),debug=False)\n",
    "    return return_pandas\n",
    "    \n",
    "def tool_chat_dau(start_date:str,end_date:str,rolling_day=1):\n",
    "    \"\"\"Retrieve Chat DAU within the [start_date, end_date] time range, optionally using a rolling average over rolling_day days.\n",
    "    \n",
    "    Input:\n",
    "        start_date (e.g., 2024-07-10), end_date (e.g., 2024-07-14) ,rolling_day (e.g. 7 or 1)\n",
    "    Output:\n",
    "        a pandas dataframe\n",
    "    \"\"\"\n",
    "    sql_template=key_sqls[\"Chat Active DAU (rolling ${rolling_day} day)\"]\n",
    "    return_pandas=toolPGSQL.execute_v2(Template(sql_template).substitute(start_date=start_date,end_date=end_date,dau_metrics_date=end_date,rolling_day=rolling_day),debug=False)\n",
    "    return return_pandas\n",
    "check_date=\"2024-07-11\"\n",
    "def daily_check(check_date:str=\"2024-07-11\"):\n",
    "    \"\"\"Retrieve daily check results for [check_date], providing metrics for DAU, retention, and Chat DAU.\n",
    "    \n",
    "    Input:\n",
    "        check_date (e.g., 2024-07-11)\n",
    "    Output:\n",
    "        a formatted string containing daily check results\n",
    "    \"\"\"\n",
    "    # last date having data\n",
    "\n",
    "    res_list=[]\n",
    "    tool_functions= [tool_dau,tool_retention,tool_chat_dau]\n",
    "    for tool in tool_functions:\n",
    "        metrics_date=tool(start_date=(datetime.strptime(check_date, '%Y-%m-%d') -  timedelta(days=7)).strftime('%Y-%m-%d'),end_date=check_date,rolling_day=1).iloc[-1].loc[\"time\"]\n",
    "        seven_days_ago=(datetime.strptime(metrics_date, '%Y-%m-%d') -  timedelta(days=7)).strftime('%Y-%m-%d')\n",
    "        print(metrics_date,seven_days_ago)\n",
    "        data_r1=tool(start_date=seven_days_ago,end_date=metrics_date,rolling_day=1)\n",
    "        r1_wow_change=data_r1.loc[data_r1['time']==metrics_date].iloc[-1,-1]-data_r1.loc[data_r1['time']==seven_days_ago].iloc[-1,-1]\n",
    "\n",
    "        data_r7=tool(start_date=seven_days_ago,end_date=metrics_date,rolling_day=7)\n",
    "        r7_wow_change=data_r7.loc[data_r7['time']==metrics_date].iloc[-1,-1]-data_r7.loc[data_r7['time']==seven_days_ago].iloc[-1,-1]\n",
    "        res_list.append([metrics_date,data_r7.iloc[-1,-1],r7_wow_change,data_r1.iloc[-1,-1],r1_wow_change])\n",
    "\n",
    "    \n",
    "    # print(res_list)\n",
    "    daily_template=f\"\"\"Check Date: {check_date}\"\"\";\n",
    "    \n",
    "    daily_template+=f\"\"\"\\n Metrics Date: {res_list[0][0]} DAU: avg-7d {res_list[0][1]/1000000:.3f} M ({res_list[0][2]/1000:.3f}k WoW), last-1d {res_list[0][3]/1000000:.3f} M ({res_list[0][4]/1000:.3f}k WoW)\"\"\"\n",
    "    daily_template+=f\"\"\"\\n Metrics Date: {res_list[1][0]} New Retention Day7: avg-7d {res_list[1][1]*100:.1f}% ({res_list[1][2]*100:.2f} pp WoW), last-1d {res_list[1][3]*100:.3f}% ({res_list[1][4]*100:.2f}pp WoW)\"\"\"\n",
    "    daily_template+=f\"\"\"\\n Metrics Date: {res_list[2][0]} Chat DAU: avg-7d {res_list[2][1]/1000000:.3f} M ({res_list[2][2]/1000:.3f}k WoW), last-1d {res_list[2][3]/1000000:.3f} M ({res_list[2][4]/1000:.3f} K WoW)\"\"\"\n",
    "    return daily_template\n",
    "# DAU: avg-7d 5.13 M (-193.0k WoW), last-1d 5.21 M (-46.2k WoW)\n",
    "# New Retention Day7: avg-7d 10.54% (+2.66pp WoW), last-1d 12.29% (+4.23pp WoW)\n",
    "# Chat DAU: avg-7d 1.13 M (-64.7k WoW), last-1d 1.14 M (-74.5 K WoW)\"\"\"\n",
    "\n",
    "\n",
    "[['2024-07-11', 5133543.0, -192994.85714285728, 5211443.0, -46197.0],\n",
    "  ['2024-07-10', 0.12328767072713977, 0.02388727949170459, 0.12913746749526203, 0.004080515735680468],\n",
    "  ['2024-07-11', 1116056.4285714286, -69815.71428571432, 1081294.0, -116028.0]]"
   ]
  },
  {
   "cell_type": "code",
   "execution_count": 37,
   "metadata": {},
   "outputs": [
    {
     "name": "stdout",
     "output_type": "stream",
     "text": [
      "Connection closed, reconnecting...\n",
      "Database connection closed\n",
      "PGSQL Connection successful\n",
      "{'host': 'bingviz-metrics-storage-dup.postgres.database.azure.com', 'port': '5432', 'dbname': 'metrics', 'user': 'bingviz_metrics', 'password': \"xb;Rt&F4~]XWj:@r-7.df'QD\", 'connect_timeout': 20}\n",
      "Reconnected to the database\n",
      "2024-07-01 2024-06-24\n",
      "Connection closed, reconnecting...\n",
      "Database connection closed\n",
      "PGSQL Connection successful\n",
      "{'host': 'bingviz-metrics-storage-dup.postgres.database.azure.com', 'port': '5432', 'dbname': 'metrics', 'user': 'bingviz_metrics', 'password': \"xb;Rt&F4~]XWj:@r-7.df'QD\", 'connect_timeout': 20}\n",
      "Reconnected to the database\n",
      "Connection closed, reconnecting...\n",
      "Database connection closed\n",
      "PGSQL Connection successful\n",
      "{'host': 'bingviz-metrics-storage-dup.postgres.database.azure.com', 'port': '5432', 'dbname': 'metrics', 'user': 'bingviz_metrics', 'password': \"xb;Rt&F4~]XWj:@r-7.df'QD\", 'connect_timeout': 20}\n",
      "Reconnected to the database\n",
      "Connection closed, reconnecting...\n",
      "Database connection closed\n",
      "PGSQL Connection successful\n",
      "{'host': 'bingviz-metrics-storage-dup.postgres.database.azure.com', 'port': '5432', 'dbname': 'metrics', 'user': 'bingviz_metrics', 'password': \"xb;Rt&F4~]XWj:@r-7.df'QD\", 'connect_timeout': 20}\n",
      "Reconnected to the database\n",
      "2024-07-01 2024-06-24\n",
      "Connection closed, reconnecting...\n",
      "Database connection closed\n",
      "PGSQL Connection successful\n",
      "{'host': 'bingviz-metrics-storage-dup.postgres.database.azure.com', 'port': '5432', 'dbname': 'metrics', 'user': 'bingviz_metrics', 'password': \"xb;Rt&F4~]XWj:@r-7.df'QD\", 'connect_timeout': 20}\n",
      "Reconnected to the database\n",
      "Connection closed, reconnecting...\n",
      "Database connection closed\n",
      "PGSQL Connection successful\n",
      "{'host': 'bingviz-metrics-storage-dup.postgres.database.azure.com', 'port': '5432', 'dbname': 'metrics', 'user': 'bingviz_metrics', 'password': \"xb;Rt&F4~]XWj:@r-7.df'QD\", 'connect_timeout': 20}\n",
      "Reconnected to the database\n",
      "Connection closed, reconnecting...\n",
      "Database connection closed\n",
      "PGSQL Connection successful\n",
      "{'host': 'bingviz-metrics-storage-dup.postgres.database.azure.com', 'port': '5432', 'dbname': 'metrics', 'user': 'bingviz_metrics', 'password': \"xb;Rt&F4~]XWj:@r-7.df'QD\", 'connect_timeout': 20}\n",
      "Reconnected to the database\n",
      "2024-07-01 2024-06-24\n",
      "Connection closed, reconnecting...\n",
      "Database connection closed\n",
      "PGSQL Connection successful\n",
      "{'host': 'bingviz-metrics-storage-dup.postgres.database.azure.com', 'port': '5432', 'dbname': 'metrics', 'user': 'bingviz_metrics', 'password': \"xb;Rt&F4~]XWj:@r-7.df'QD\", 'connect_timeout': 20}\n",
      "Reconnected to the database\n",
      "Connection closed, reconnecting...\n",
      "Database connection closed\n",
      "PGSQL Connection successful\n",
      "{'host': 'bingviz-metrics-storage-dup.postgres.database.azure.com', 'port': '5432', 'dbname': 'metrics', 'user': 'bingviz_metrics', 'password': \"xb;Rt&F4~]XWj:@r-7.df'QD\", 'connect_timeout': 20}\n",
      "Reconnected to the database\n",
      "Check Date: 2024-07-01\n",
      " Metrics Date: 2024-07-01 DAU: avg-7d 5.508 M (-105.123k WoW), last-1d 5.361 M (-383.118k WoW)\n",
      " Metrics Date: 2024-07-01 New Retention Day7: avg-7d 8.7% (0.63 pp WoW), last-1d 11.651% (4.10pp WoW)\n",
      " Metrics Date: 2024-07-01 Chat DAU: avg-7d 1.244 M (-105.388k WoW), last-1d 1.207 M (-158.595 K WoW)\n"
     ]
    }
   ],
   "source": [
    "print(daily_check(check_date=\"2024-07-01\"))"
   ]
  },
  {
   "cell_type": "code",
   "execution_count": 75,
   "metadata": {},
   "outputs": [
    {
     "name": "stdout",
     "output_type": "stream",
     "text": [
      "Connection closed, reconnecting...\n",
      "Database connection closed\n",
      "PGSQL Connection successful\n",
      "{'host': 'bingviz-metrics-storage-dup.postgres.database.azure.com', 'port': '5432', 'dbname': 'metrics', 'user': 'bingviz_metrics', 'password': \"xb;Rt&F4~]XWj:@r-7.df'QD\", 'connect_timeout': 20}\n",
      "Reconnected to the database\n"
     ]
    },
    {
     "name": "stderr",
     "output_type": "stream",
     "text": [
      "C:\\Users\\v-keqichen\\Desktop\\Python_Pipeline\\BingViz-DM\\BingVizAdHoc\\Analytics\\users\\v-keqichen\\DataJavis\\src\\ToolPGSQL.py:135: UserWarning: pandas only supports SQLAlchemy connectable (engine/connection) or database string URI or sqlite3 DBAPI2 connection. Other DBAPI2 objects are not tested. Please consider using SQLAlchemy.\n",
      "  df=pd.read_sql_query(sql_query,self.conn)\n"
     ]
    },
    {
     "data": {
      "text/html": [
       "<div>\n",
       "<style scoped>\n",
       "    .dataframe tbody tr th:only-of-type {\n",
       "        vertical-align: middle;\n",
       "    }\n",
       "\n",
       "    .dataframe tbody tr th {\n",
       "        vertical-align: top;\n",
       "    }\n",
       "\n",
       "    .dataframe thead th {\n",
       "        text-align: right;\n",
       "    }\n",
       "</style>\n",
       "<table border=\"1\" class=\"dataframe\">\n",
       "  <thead>\n",
       "    <tr style=\"text-align: right;\">\n",
       "      <th></th>\n",
       "      <th>time</th>\n",
       "      <th>Retention D7 R1</th>\n",
       "    </tr>\n",
       "  </thead>\n",
       "  <tbody>\n",
       "    <tr>\n",
       "      <th>0</th>\n",
       "      <td>2024-07-04</td>\n",
       "      <td>0.122877</td>\n",
       "    </tr>\n",
       "    <tr>\n",
       "      <th>1</th>\n",
       "      <td>2024-07-05</td>\n",
       "      <td>0.122118</td>\n",
       "    </tr>\n",
       "    <tr>\n",
       "      <th>2</th>\n",
       "      <td>2024-07-06</td>\n",
       "      <td>0.122176</td>\n",
       "    </tr>\n",
       "    <tr>\n",
       "      <th>3</th>\n",
       "      <td>2024-07-07</td>\n",
       "      <td>0.123089</td>\n",
       "    </tr>\n",
       "    <tr>\n",
       "      <th>4</th>\n",
       "      <td>2024-07-08</td>\n",
       "      <td>0.121755</td>\n",
       "    </tr>\n",
       "    <tr>\n",
       "      <th>5</th>\n",
       "      <td>2024-07-09</td>\n",
       "      <td>0.121860</td>\n",
       "    </tr>\n",
       "    <tr>\n",
       "      <th>6</th>\n",
       "      <td>2024-07-10</td>\n",
       "      <td>0.129137</td>\n",
       "    </tr>\n",
       "  </tbody>\n",
       "</table>\n",
       "</div>"
      ],
      "text/plain": [
       "         time  Retention D7 R1\n",
       "0  2024-07-04         0.122877\n",
       "1  2024-07-05         0.122118\n",
       "2  2024-07-06         0.122176\n",
       "3  2024-07-07         0.123089\n",
       "4  2024-07-08         0.121755\n",
       "5  2024-07-09         0.121860\n",
       "6  2024-07-10         0.129137"
      ]
     },
     "execution_count": 75,
     "metadata": {},
     "output_type": "execute_result"
    }
   ],
   "source": [
    "seven_days_ago=(datetime.strptime(check_date, '%Y-%m-%d') -  timedelta(days=7)).strftime('%Y-%m-%d')\n",
    "dau_r1=tool_retention(start_date=seven_days_ago,end_date=check_date,rolling_day=1)\n",
    "dau_r1"
   ]
  },
  {
   "cell_type": "code",
   "execution_count": 69,
   "metadata": {},
   "outputs": [
    {
     "name": "stdout",
     "output_type": "stream",
     "text": [
      "Connection closed, reconnecting...\n",
      "Database connection closed\n",
      "PGSQL Connection successful\n",
      "{'host': 'bingviz-metrics-storage-dup.postgres.database.azure.com', 'port': '5432', 'dbname': 'metrics', 'user': 'bingviz_metrics', 'password': \"xb;Rt&F4~]XWj:@r-7.df'QD\", 'connect_timeout': 20}\n",
      "Reconnected to the database\n"
     ]
    },
    {
     "ename": "IndexError",
     "evalue": "index -1 is out of bounds for axis 0 with size 0",
     "output_type": "error",
     "traceback": [
      "\u001b[1;31m---------------------------------------------------------------------------\u001b[0m",
      "\u001b[1;31mIndexError\u001b[0m                                Traceback (most recent call last)",
      "\u001b[1;32m~\\AppData\\Local\\Temp\\ipykernel_22680\\4123322053.py\u001b[0m in \u001b[0;36m?\u001b[1;34m()\u001b[0m\n\u001b[1;32m----> 3\u001b[1;33m \u001b[0mseven_days_ago\u001b[0m\u001b[1;33m=\u001b[0m\u001b[1;33m(\u001b[0m\u001b[0mdatetime\u001b[0m\u001b[1;33m.\u001b[0m\u001b[0mstrptime\u001b[0m\u001b[1;33m(\u001b[0m\u001b[0mcheck_date\u001b[0m\u001b[1;33m,\u001b[0m \u001b[1;34m'%Y-%m-%d'\u001b[0m\u001b[1;33m)\u001b[0m \u001b[1;33m-\u001b[0m  \u001b[0mtimedelta\u001b[0m\u001b[1;33m(\u001b[0m\u001b[0mdays\u001b[0m\u001b[1;33m=\u001b[0m\u001b[1;36m7\u001b[0m\u001b[1;33m)\u001b[0m\u001b[1;33m)\u001b[0m\u001b[1;33m.\u001b[0m\u001b[0mstrftime\u001b[0m\u001b[1;33m(\u001b[0m\u001b[1;34m'%Y-%m-%d'\u001b[0m\u001b[1;33m)\u001b[0m\u001b[1;33m\u001b[0m\u001b[1;33m\u001b[0m\u001b[0m\n\u001b[0m\u001b[0;32m      4\u001b[0m \u001b[0mdau_r1\u001b[0m\u001b[1;33m=\u001b[0m\u001b[0mtool_retention\u001b[0m\u001b[1;33m(\u001b[0m\u001b[0mstart_date\u001b[0m\u001b[1;33m=\u001b[0m\u001b[0mseven_days_ago\u001b[0m\u001b[1;33m,\u001b[0m\u001b[0mend_date\u001b[0m\u001b[1;33m=\u001b[0m\u001b[0mcheck_date\u001b[0m\u001b[1;33m,\u001b[0m\u001b[0mrolling_day\u001b[0m\u001b[1;33m=\u001b[0m\u001b[1;36m1\u001b[0m\u001b[1;33m)\u001b[0m\u001b[1;33m\u001b[0m\u001b[1;33m\u001b[0m\u001b[0m\n\u001b[0;32m      5\u001b[0m \u001b[0mprint\u001b[0m\u001b[1;33m(\u001b[0m\u001b[0mdau_r1\u001b[0m\u001b[1;33m.\u001b[0m\u001b[0mloc\u001b[0m\u001b[1;33m[\u001b[0m\u001b[0mdau_r1\u001b[0m\u001b[1;33m[\u001b[0m\u001b[1;34m'time'\u001b[0m\u001b[1;33m]\u001b[0m\u001b[1;33m==\u001b[0m\u001b[0mcheck_date\u001b[0m\u001b[1;33m]\u001b[0m\u001b[1;33m.\u001b[0m\u001b[0miloc\u001b[0m\u001b[1;33m[\u001b[0m\u001b[1;33m-\u001b[0m\u001b[1;36m1\u001b[0m\u001b[1;33m,\u001b[0m\u001b[1;33m-\u001b[0m\u001b[1;36m1\u001b[0m\u001b[1;33m]\u001b[0m\u001b[1;33m-\u001b[0m\u001b[0mdau_r1\u001b[0m\u001b[1;33m.\u001b[0m\u001b[0mloc\u001b[0m\u001b[1;33m[\u001b[0m\u001b[0mdau_r1\u001b[0m\u001b[1;33m[\u001b[0m\u001b[1;34m'time'\u001b[0m\u001b[1;33m]\u001b[0m\u001b[1;33m==\u001b[0m\u001b[0mseven_days_ago\u001b[0m\u001b[1;33m]\u001b[0m\u001b[1;33m.\u001b[0m\u001b[0miloc\u001b[0m\u001b[1;33m[\u001b[0m\u001b[1;33m-\u001b[0m\u001b[1;36m1\u001b[0m\u001b[1;33m,\u001b[0m\u001b[1;33m-\u001b[0m\u001b[1;36m1\u001b[0m\u001b[1;33m]\u001b[0m\u001b[1;33m)\u001b[0m\u001b[1;33m\u001b[0m\u001b[1;33m\u001b[0m\u001b[0m\n",
      "\u001b[1;32mc:\\Tool\\miniconda\\envs\\py38\\lib\\site-packages\\pandas\\core\\indexing.py\u001b[0m in \u001b[0;36m?\u001b[1;34m(self, key)\u001b[0m\n\u001b[0;32m   1092\u001b[0m         \u001b[1;32mif\u001b[0m \u001b[0mtype\u001b[0m\u001b[1;33m(\u001b[0m\u001b[0mkey\u001b[0m\u001b[1;33m)\u001b[0m \u001b[1;32mis\u001b[0m \u001b[0mtuple\u001b[0m\u001b[1;33m:\u001b[0m\u001b[1;33m\u001b[0m\u001b[1;33m\u001b[0m\u001b[0m\n\u001b[0;32m   1093\u001b[0m             \u001b[0mkey\u001b[0m \u001b[1;33m=\u001b[0m \u001b[0mtuple\u001b[0m\u001b[1;33m(\u001b[0m\u001b[0mlist\u001b[0m\u001b[1;33m(\u001b[0m\u001b[0mx\u001b[0m\u001b[1;33m)\u001b[0m \u001b[1;32mif\u001b[0m \u001b[0mis_iterator\u001b[0m\u001b[1;33m(\u001b[0m\u001b[0mx\u001b[0m\u001b[1;33m)\u001b[0m \u001b[1;32melse\u001b[0m \u001b[0mx\u001b[0m \u001b[1;32mfor\u001b[0m \u001b[0mx\u001b[0m \u001b[1;32min\u001b[0m \u001b[0mkey\u001b[0m\u001b[1;33m)\u001b[0m\u001b[1;33m\u001b[0m\u001b[1;33m\u001b[0m\u001b[0m\n\u001b[0;32m   1094\u001b[0m             \u001b[0mkey\u001b[0m \u001b[1;33m=\u001b[0m \u001b[0mtuple\u001b[0m\u001b[1;33m(\u001b[0m\u001b[0mcom\u001b[0m\u001b[1;33m.\u001b[0m\u001b[0mapply_if_callable\u001b[0m\u001b[1;33m(\u001b[0m\u001b[0mx\u001b[0m\u001b[1;33m,\u001b[0m \u001b[0mself\u001b[0m\u001b[1;33m.\u001b[0m\u001b[0mobj\u001b[0m\u001b[1;33m)\u001b[0m \u001b[1;32mfor\u001b[0m \u001b[0mx\u001b[0m \u001b[1;32min\u001b[0m \u001b[0mkey\u001b[0m\u001b[1;33m)\u001b[0m\u001b[1;33m\u001b[0m\u001b[1;33m\u001b[0m\u001b[0m\n\u001b[0;32m   1095\u001b[0m             \u001b[1;32mif\u001b[0m \u001b[0mself\u001b[0m\u001b[1;33m.\u001b[0m\u001b[0m_is_scalar_access\u001b[0m\u001b[1;33m(\u001b[0m\u001b[0mkey\u001b[0m\u001b[1;33m)\u001b[0m\u001b[1;33m:\u001b[0m\u001b[1;33m\u001b[0m\u001b[1;33m\u001b[0m\u001b[0m\n\u001b[1;32m-> 1096\u001b[1;33m                 \u001b[1;32mreturn\u001b[0m \u001b[0mself\u001b[0m\u001b[1;33m.\u001b[0m\u001b[0mobj\u001b[0m\u001b[1;33m.\u001b[0m\u001b[0m_get_value\u001b[0m\u001b[1;33m(\u001b[0m\u001b[1;33m*\u001b[0m\u001b[0mkey\u001b[0m\u001b[1;33m,\u001b[0m \u001b[0mtakeable\u001b[0m\u001b[1;33m=\u001b[0m\u001b[0mself\u001b[0m\u001b[1;33m.\u001b[0m\u001b[0m_takeable\u001b[0m\u001b[1;33m)\u001b[0m\u001b[1;33m\u001b[0m\u001b[1;33m\u001b[0m\u001b[0m\n\u001b[0m\u001b[0;32m   1097\u001b[0m             \u001b[1;32mreturn\u001b[0m \u001b[0mself\u001b[0m\u001b[1;33m.\u001b[0m\u001b[0m_getitem_tuple\u001b[0m\u001b[1;33m(\u001b[0m\u001b[0mkey\u001b[0m\u001b[1;33m)\u001b[0m\u001b[1;33m\u001b[0m\u001b[1;33m\u001b[0m\u001b[0m\n\u001b[0;32m   1098\u001b[0m         \u001b[1;32melse\u001b[0m\u001b[1;33m:\u001b[0m\u001b[1;33m\u001b[0m\u001b[1;33m\u001b[0m\u001b[0m\n\u001b[0;32m   1099\u001b[0m             \u001b[1;31m# we by definition only have the 0th axis\u001b[0m\u001b[1;33m\u001b[0m\u001b[1;33m\u001b[0m\u001b[1;33m\u001b[0m\u001b[0m\n",
      "\u001b[1;32mc:\\Tool\\miniconda\\envs\\py38\\lib\\site-packages\\pandas\\core\\frame.py\u001b[0m in \u001b[0;36m?\u001b[1;34m(self, index, col, takeable)\u001b[0m\n\u001b[0;32m   3864\u001b[0m         \u001b[0;31m`\u001b[0m\u001b[0mself\u001b[0m\u001b[1;33m.\u001b[0m\u001b[0mcolumns\u001b[0m\u001b[1;33m.\u001b[0m\u001b[0m_index_as_unique\u001b[0m\u001b[0;31m`\u001b[0m\u001b[1;33m;\u001b[0m \u001b[0mCaller\u001b[0m \u001b[1;32mis\u001b[0m \u001b[0mresponsible\u001b[0m \u001b[1;32mfor\u001b[0m \u001b[0mchecking\u001b[0m\u001b[1;33m.\u001b[0m\u001b[1;33m\u001b[0m\u001b[1;33m\u001b[0m\u001b[0m\n\u001b[0;32m   3865\u001b[0m         \"\"\"\n\u001b[0;32m   3866\u001b[0m         \u001b[1;32mif\u001b[0m \u001b[0mtakeable\u001b[0m\u001b[1;33m:\u001b[0m\u001b[1;33m\u001b[0m\u001b[1;33m\u001b[0m\u001b[0m\n\u001b[0;32m   3867\u001b[0m             \u001b[0mseries\u001b[0m \u001b[1;33m=\u001b[0m \u001b[0mself\u001b[0m\u001b[1;33m.\u001b[0m\u001b[0m_ixs\u001b[0m\u001b[1;33m(\u001b[0m\u001b[0mcol\u001b[0m\u001b[1;33m,\u001b[0m \u001b[0maxis\u001b[0m\u001b[1;33m=\u001b[0m\u001b[1;36m1\u001b[0m\u001b[1;33m)\u001b[0m\u001b[1;33m\u001b[0m\u001b[1;33m\u001b[0m\u001b[0m\n\u001b[1;32m-> 3868\u001b[1;33m             \u001b[1;32mreturn\u001b[0m \u001b[0mseries\u001b[0m\u001b[1;33m.\u001b[0m\u001b[0m_values\u001b[0m\u001b[1;33m[\u001b[0m\u001b[0mindex\u001b[0m\u001b[1;33m]\u001b[0m\u001b[1;33m\u001b[0m\u001b[1;33m\u001b[0m\u001b[0m\n\u001b[0m\u001b[0;32m   3869\u001b[0m \u001b[1;33m\u001b[0m\u001b[0m\n\u001b[0;32m   3870\u001b[0m         \u001b[0mseries\u001b[0m \u001b[1;33m=\u001b[0m \u001b[0mself\u001b[0m\u001b[1;33m.\u001b[0m\u001b[0m_get_item_cache\u001b[0m\u001b[1;33m(\u001b[0m\u001b[0mcol\u001b[0m\u001b[1;33m)\u001b[0m\u001b[1;33m\u001b[0m\u001b[1;33m\u001b[0m\u001b[0m\n\u001b[0;32m   3871\u001b[0m         \u001b[0mengine\u001b[0m \u001b[1;33m=\u001b[0m \u001b[0mself\u001b[0m\u001b[1;33m.\u001b[0m\u001b[0mindex\u001b[0m\u001b[1;33m.\u001b[0m\u001b[0m_engine\u001b[0m\u001b[1;33m\u001b[0m\u001b[1;33m\u001b[0m\u001b[0m\n",
      "\u001b[1;31mIndexError\u001b[0m: index -1 is out of bounds for axis 0 with size 0"
     ]
    }
   ],
   "source": [
    "\n",
    "\n",
    "print()"
   ]
  },
  {
   "cell_type": "code",
   "execution_count": 52,
   "metadata": {},
   "outputs": [
    {
     "name": "stdout",
     "output_type": "stream",
     "text": [
      "         time   DAU (R1)\n",
      "0  2024-07-10  5232876.0\n",
      "1  2024-07-11  5211443.0\n"
     ]
    }
   ],
   "source": [
    "print(dau_r1)"
   ]
  },
  {
   "cell_type": "code",
   "execution_count": 50,
   "metadata": {},
   "outputs": [
    {
     "data": {
      "text/plain": [
       "-21433.0"
      ]
     },
     "execution_count": 50,
     "metadata": {},
     "output_type": "execute_result"
    }
   ],
   "source": [
    "dau_r1.iloc[-1,-1]-dau_r1.iloc[-2,-1]"
   ]
  },
  {
   "cell_type": "code",
   "execution_count": 40,
   "metadata": {},
   "outputs": [
    {
     "name": "stdout",
     "output_type": "stream",
     "text": [
      "Connection closed, reconnecting...\n",
      "Database connection closed\n",
      "PGSQL Connection successful\n",
      "{'host': 'bingviz-metrics-storage-dup.postgres.database.azure.com', 'port': '5432', 'dbname': 'metrics', 'user': 'bingviz_metrics', 'password': \"xb;Rt&F4~]XWj:@r-7.df'QD\", 'connect_timeout': 20}\n",
      "Reconnected to the database\n"
     ]
    },
    {
     "name": "stderr",
     "output_type": "stream",
     "text": [
      "C:\\Users\\v-keqichen\\Desktop\\Python_Pipeline\\BingViz-DM\\BingVizAdHoc\\Analytics\\users\\v-keqichen\\DataJavis\\src\\ToolPGSQL.py:135: UserWarning: pandas only supports SQLAlchemy connectable (engine/connection) or database string URI or sqlite3 DBAPI2 connection. Other DBAPI2 objects are not tested. Please consider using SQLAlchemy.\n",
      "  df=pd.read_sql_query(sql_query,self.conn)\n"
     ]
    },
    {
     "name": "stdout",
     "output_type": "stream",
     "text": [
      "         time   DAU (R1)\n",
      "0  2024-07-10  5232876.0\n",
      "1  2024-07-11  5211443.0\n",
      "Connection closed, reconnecting...\n",
      "Database connection closed\n",
      "PGSQL Connection successful\n",
      "{'host': 'bingviz-metrics-storage-dup.postgres.database.azure.com', 'port': '5432', 'dbname': 'metrics', 'user': 'bingviz_metrics', 'password': \"xb;Rt&F4~]XWj:@r-7.df'QD\", 'connect_timeout': 20}\n",
      "Reconnected to the database\n"
     ]
    },
    {
     "name": "stderr",
     "output_type": "stream",
     "text": [
      "C:\\Users\\v-keqichen\\Desktop\\Python_Pipeline\\BingViz-DM\\BingVizAdHoc\\Analytics\\users\\v-keqichen\\DataJavis\\src\\ToolPGSQL.py:135: UserWarning: pandas only supports SQLAlchemy connectable (engine/connection) or database string URI or sqlite3 DBAPI2 connection. Other DBAPI2 objects are not tested. Please consider using SQLAlchemy.\n",
      "  df=pd.read_sql_query(sql_query,self.conn)\n"
     ]
    },
    {
     "name": "stdout",
     "output_type": "stream",
     "text": [
      "         time      DAU (R7)\n",
      "0  2024-07-04  5.257640e+06\n",
      "1  2024-07-05  5.220003e+06\n",
      "2  2024-07-06  5.123782e+06\n",
      "3  2024-07-07  5.065069e+06\n",
      "4  2024-07-08  5.097929e+06\n",
      "5  2024-07-09  5.124687e+06\n",
      "6  2024-07-10  5.140143e+06\n",
      "7  2024-07-11  5.133543e+06\n"
     ]
    }
   ],
   "source": [
    "daily_check(\"2024-07-11\")"
   ]
  },
  {
   "cell_type": "code",
   "execution_count": 35,
   "metadata": {},
   "outputs": [
    {
     "name": "stdout",
     "output_type": "stream",
     "text": [
      "Connection closed, reconnecting...\n",
      "Database connection closed\n",
      "PGSQL Connection successful\n",
      "{'host': 'bingviz-metrics-storage-dup.postgres.database.azure.com', 'port': '5432', 'dbname': 'metrics', 'user': 'bingviz_metrics', 'password': \"xb;Rt&F4~]XWj:@r-7.df'QD\", 'connect_timeout': 20}\n",
      "Reconnected to the database\n"
     ]
    },
    {
     "name": "stderr",
     "output_type": "stream",
     "text": [
      "C:\\Users\\v-keqichen\\Desktop\\Python_Pipeline\\BingViz-DM\\BingVizAdHoc\\Analytics\\users\\v-keqichen\\DataJavis\\src\\ToolPGSQL.py:135: UserWarning: pandas only supports SQLAlchemy connectable (engine/connection) or database string URI or sqlite3 DBAPI2 connection. Other DBAPI2 objects are not tested. Please consider using SQLAlchemy.\n",
      "  df=pd.read_sql_query(sql_query,self.conn)\n"
     ]
    },
    {
     "data": {
      "text/html": [
       "<div>\n",
       "<style scoped>\n",
       "    .dataframe tbody tr th:only-of-type {\n",
       "        vertical-align: middle;\n",
       "    }\n",
       "\n",
       "    .dataframe tbody tr th {\n",
       "        vertical-align: top;\n",
       "    }\n",
       "\n",
       "    .dataframe thead th {\n",
       "        text-align: right;\n",
       "    }\n",
       "</style>\n",
       "<table border=\"1\" class=\"dataframe\">\n",
       "  <thead>\n",
       "    <tr style=\"text-align: right;\">\n",
       "      <th></th>\n",
       "      <th>time</th>\n",
       "      <th>DAU (R1)</th>\n",
       "    </tr>\n",
       "  </thead>\n",
       "  <tbody>\n",
       "    <tr>\n",
       "      <th>0</th>\n",
       "      <td>2024-07-09</td>\n",
       "      <td>5258479.0</td>\n",
       "    </tr>\n",
       "    <tr>\n",
       "      <th>1</th>\n",
       "      <td>2024-07-10</td>\n",
       "      <td>5232876.0</td>\n",
       "    </tr>\n",
       "    <tr>\n",
       "      <th>2</th>\n",
       "      <td>2024-07-11</td>\n",
       "      <td>5211443.0</td>\n",
       "    </tr>\n",
       "    <tr>\n",
       "      <th>3</th>\n",
       "      <td>2024-07-12</td>\n",
       "      <td>5079268.0</td>\n",
       "    </tr>\n",
       "  </tbody>\n",
       "</table>\n",
       "</div>"
      ],
      "text/plain": [
       "         time   DAU (R1)\n",
       "0  2024-07-09  5258479.0\n",
       "1  2024-07-10  5232876.0\n",
       "2  2024-07-11  5211443.0\n",
       "3  2024-07-12  5079268.0"
      ]
     },
     "execution_count": 35,
     "metadata": {},
     "output_type": "execute_result"
    }
   ],
   "source": [
    "tool_dau(\"2024-07-10\",\"2024-07-12\",1)"
   ]
  },
  {
   "cell_type": "code",
   "execution_count": null,
   "metadata": {},
   "outputs": [],
   "source": []
  }
 ],
 "metadata": {
  "kernelspec": {
   "display_name": "py38",
   "language": "python",
   "name": "python3"
  },
  "language_info": {
   "codemirror_mode": {
    "name": "ipython",
    "version": 3
   },
   "file_extension": ".py",
   "mimetype": "text/x-python",
   "name": "python",
   "nbconvert_exporter": "python",
   "pygments_lexer": "ipython3",
   "version": "3.8.0"
  }
 },
 "nbformat": 4,
 "nbformat_minor": 2
}
